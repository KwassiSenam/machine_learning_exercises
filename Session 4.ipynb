{
 "cells": [
  {
   "cell_type": "markdown",
   "id": "5d94d824",
   "metadata": {},
   "source": [
    "# Exo 1"
   ]
  },
  {
   "cell_type": "markdown",
   "id": "263ad5d3",
   "metadata": {},
   "source": [
    "#### Using a logistic Regression to predict the output(estimated salary) taking into account the age"
   ]
  },
  {
   "cell_type": "code",
   "execution_count": 2,
   "id": "606385a9",
   "metadata": {},
   "outputs": [],
   "source": [
    "# Importing the libraries\n",
    "import numpy as np\n",
    "import matplotlib.pyplot as plt\n",
    "import pandas as pd\n",
    "\n",
    "from pandas.plotting import scatter_matrix"
   ]
  },
  {
   "cell_type": "code",
   "execution_count": 2,
   "id": "255c1a80",
   "metadata": {},
   "outputs": [],
   "source": [
    "def drawClasses(X_set,y_set,c1,c2,title_name,x_label,y_label,classes,classifier=None):\n",
    "    from matplotlib.colors import ListedColormap\n",
    "    plt.figure()\n",
    "\n",
    "    X1, X2 = np.meshgrid(np.arange(start = X_set[:, c1].min() - 1, stop = X_set[:, c1].max() + 1, step = 0.01),\n",
    "                         np.arange(start = X_set[:, c2].min() - 1, stop = X_set[:, c2].max() + 1, step = 0.01))\n",
    "    if classifier is not None:\n",
    "        plt.contourf(X1, X2, classifier.predict(np.array([X1.ravel(), X2.ravel()]).T).reshape(X1.shape),\n",
    "                     alpha = 0.25, cmap = ListedColormap(classes))\n",
    "    plt.xlim(X1.min(), X1.max())\n",
    "    plt.ylim(X2.min(), X2.max())\n",
    "    for i, j in enumerate(np.unique(y_set)):\n",
    "        plt.scatter(X_set[y_set == j, 0], X_set[y_set == j, 1],\n",
    "                    c = ListedColormap(classes)(i), label = j)\n",
    "    plt.title('Classifier ({})'.format(title_name))\n",
    "    plt.xlabel(x_label)\n",
    "    plt.ylabel(y_label)\n",
    "    plt.legend()\n",
    "    plt.show()"
   ]
  },
  {
   "cell_type": "code",
   "execution_count": 3,
   "id": "921fb617",
   "metadata": {},
   "outputs": [
    {
     "data": {
      "text/html": [
       "<div>\n",
       "<style scoped>\n",
       "    .dataframe tbody tr th:only-of-type {\n",
       "        vertical-align: middle;\n",
       "    }\n",
       "\n",
       "    .dataframe tbody tr th {\n",
       "        vertical-align: top;\n",
       "    }\n",
       "\n",
       "    .dataframe thead th {\n",
       "        text-align: right;\n",
       "    }\n",
       "</style>\n",
       "<table border=\"1\" class=\"dataframe\">\n",
       "  <thead>\n",
       "    <tr style=\"text-align: right;\">\n",
       "      <th></th>\n",
       "      <th>User ID</th>\n",
       "      <th>Gender</th>\n",
       "      <th>Age</th>\n",
       "      <th>EstimatedSalary</th>\n",
       "      <th>Purchased</th>\n",
       "    </tr>\n",
       "  </thead>\n",
       "  <tbody>\n",
       "    <tr>\n",
       "      <th>0</th>\n",
       "      <td>15624510</td>\n",
       "      <td>Male</td>\n",
       "      <td>19.0</td>\n",
       "      <td>19000.0</td>\n",
       "      <td>0</td>\n",
       "    </tr>\n",
       "    <tr>\n",
       "      <th>1</th>\n",
       "      <td>15810944</td>\n",
       "      <td>Male</td>\n",
       "      <td>35.0</td>\n",
       "      <td>20000.0</td>\n",
       "      <td>0</td>\n",
       "    </tr>\n",
       "    <tr>\n",
       "      <th>2</th>\n",
       "      <td>15668575</td>\n",
       "      <td>Female</td>\n",
       "      <td>26.0</td>\n",
       "      <td>43000.0</td>\n",
       "      <td>0</td>\n",
       "    </tr>\n",
       "    <tr>\n",
       "      <th>3</th>\n",
       "      <td>15603246</td>\n",
       "      <td>Female</td>\n",
       "      <td>27.0</td>\n",
       "      <td>57000.0</td>\n",
       "      <td>0</td>\n",
       "    </tr>\n",
       "    <tr>\n",
       "      <th>4</th>\n",
       "      <td>15804002</td>\n",
       "      <td>Male</td>\n",
       "      <td>19.0</td>\n",
       "      <td>76000.0</td>\n",
       "      <td>0</td>\n",
       "    </tr>\n",
       "  </tbody>\n",
       "</table>\n",
       "</div>"
      ],
      "text/plain": [
       "    User ID  Gender   Age  EstimatedSalary  Purchased\n",
       "0  15624510    Male  19.0          19000.0          0\n",
       "1  15810944    Male  35.0          20000.0          0\n",
       "2  15668575  Female  26.0          43000.0          0\n",
       "3  15603246  Female  27.0          57000.0          0\n",
       "4  15804002    Male  19.0          76000.0          0"
      ]
     },
     "execution_count": 3,
     "metadata": {},
     "output_type": "execute_result"
    }
   ],
   "source": [
    "# Importing the dataset\n",
    "dataset = pd.read_csv('./datasets/Social_Network_Ads.csv')\n",
    "dataset.head()"
   ]
  },
  {
   "cell_type": "code",
   "execution_count": 4,
   "id": "af72e584",
   "metadata": {},
   "outputs": [],
   "source": [
    "X = dataset.iloc[:, [2,3]].values\n",
    "y = dataset.iloc[:, 4].values"
   ]
  },
  {
   "cell_type": "code",
   "execution_count": 5,
   "id": "f7adf1bf",
   "metadata": {},
   "outputs": [],
   "source": [
    "# Splitting the dataset into the Training set and Test set\n",
    "from sklearn.model_selection import train_test_split\n",
    "X_train, X_test, y_train, y_test = train_test_split(X, y, test_size = 0.25, random_state = 0)"
   ]
  },
  {
   "cell_type": "code",
   "execution_count": 6,
   "id": "69d57f26",
   "metadata": {},
   "outputs": [
    {
     "data": {
      "text/html": [
       "<style>#sk-container-id-1 {color: black;background-color: white;}#sk-container-id-1 pre{padding: 0;}#sk-container-id-1 div.sk-toggleable {background-color: white;}#sk-container-id-1 label.sk-toggleable__label {cursor: pointer;display: block;width: 100%;margin-bottom: 0;padding: 0.3em;box-sizing: border-box;text-align: center;}#sk-container-id-1 label.sk-toggleable__label-arrow:before {content: \"▸\";float: left;margin-right: 0.25em;color: #696969;}#sk-container-id-1 label.sk-toggleable__label-arrow:hover:before {color: black;}#sk-container-id-1 div.sk-estimator:hover label.sk-toggleable__label-arrow:before {color: black;}#sk-container-id-1 div.sk-toggleable__content {max-height: 0;max-width: 0;overflow: hidden;text-align: left;background-color: #f0f8ff;}#sk-container-id-1 div.sk-toggleable__content pre {margin: 0.2em;color: black;border-radius: 0.25em;background-color: #f0f8ff;}#sk-container-id-1 input.sk-toggleable__control:checked~div.sk-toggleable__content {max-height: 200px;max-width: 100%;overflow: auto;}#sk-container-id-1 input.sk-toggleable__control:checked~label.sk-toggleable__label-arrow:before {content: \"▾\";}#sk-container-id-1 div.sk-estimator input.sk-toggleable__control:checked~label.sk-toggleable__label {background-color: #d4ebff;}#sk-container-id-1 div.sk-label input.sk-toggleable__control:checked~label.sk-toggleable__label {background-color: #d4ebff;}#sk-container-id-1 input.sk-hidden--visually {border: 0;clip: rect(1px 1px 1px 1px);clip: rect(1px, 1px, 1px, 1px);height: 1px;margin: -1px;overflow: hidden;padding: 0;position: absolute;width: 1px;}#sk-container-id-1 div.sk-estimator {font-family: monospace;background-color: #f0f8ff;border: 1px dotted black;border-radius: 0.25em;box-sizing: border-box;margin-bottom: 0.5em;}#sk-container-id-1 div.sk-estimator:hover {background-color: #d4ebff;}#sk-container-id-1 div.sk-parallel-item::after {content: \"\";width: 100%;border-bottom: 1px solid gray;flex-grow: 1;}#sk-container-id-1 div.sk-label:hover label.sk-toggleable__label {background-color: #d4ebff;}#sk-container-id-1 div.sk-serial::before {content: \"\";position: absolute;border-left: 1px solid gray;box-sizing: border-box;top: 0;bottom: 0;left: 50%;z-index: 0;}#sk-container-id-1 div.sk-serial {display: flex;flex-direction: column;align-items: center;background-color: white;padding-right: 0.2em;padding-left: 0.2em;position: relative;}#sk-container-id-1 div.sk-item {position: relative;z-index: 1;}#sk-container-id-1 div.sk-parallel {display: flex;align-items: stretch;justify-content: center;background-color: white;position: relative;}#sk-container-id-1 div.sk-item::before, #sk-container-id-1 div.sk-parallel-item::before {content: \"\";position: absolute;border-left: 1px solid gray;box-sizing: border-box;top: 0;bottom: 0;left: 50%;z-index: -1;}#sk-container-id-1 div.sk-parallel-item {display: flex;flex-direction: column;z-index: 1;position: relative;background-color: white;}#sk-container-id-1 div.sk-parallel-item:first-child::after {align-self: flex-end;width: 50%;}#sk-container-id-1 div.sk-parallel-item:last-child::after {align-self: flex-start;width: 50%;}#sk-container-id-1 div.sk-parallel-item:only-child::after {width: 0;}#sk-container-id-1 div.sk-dashed-wrapped {border: 1px dashed gray;margin: 0 0.4em 0.5em 0.4em;box-sizing: border-box;padding-bottom: 0.4em;background-color: white;}#sk-container-id-1 div.sk-label label {font-family: monospace;font-weight: bold;display: inline-block;line-height: 1.2em;}#sk-container-id-1 div.sk-label-container {text-align: center;}#sk-container-id-1 div.sk-container {/* jupyter's `normalize.less` sets `[hidden] { display: none; }` but bootstrap.min.css set `[hidden] { display: none !important; }` so we also need the `!important` here to be able to override the default hidden behavior on the sphinx rendered scikit-learn.org. See: https://github.com/scikit-learn/scikit-learn/issues/21755 */display: inline-block !important;position: relative;}#sk-container-id-1 div.sk-text-repr-fallback {display: none;}</style><div id=\"sk-container-id-1\" class=\"sk-top-container\"><div class=\"sk-text-repr-fallback\"><pre>LogisticRegression(random_state=0)</pre><b>In a Jupyter environment, please rerun this cell to show the HTML representation or trust the notebook. <br />On GitHub, the HTML representation is unable to render, please try loading this page with nbviewer.org.</b></div><div class=\"sk-container\" hidden><div class=\"sk-item\"><div class=\"sk-estimator sk-toggleable\"><input class=\"sk-toggleable__control sk-hidden--visually\" id=\"sk-estimator-id-1\" type=\"checkbox\" checked><label for=\"sk-estimator-id-1\" class=\"sk-toggleable__label sk-toggleable__label-arrow\">LogisticRegression</label><div class=\"sk-toggleable__content\"><pre>LogisticRegression(random_state=0)</pre></div></div></div></div></div>"
      ],
      "text/plain": [
       "LogisticRegression(random_state=0)"
      ]
     },
     "execution_count": 6,
     "metadata": {},
     "output_type": "execute_result"
    }
   ],
   "source": [
    "# Feature Scaling\n",
    "from sklearn.preprocessing import StandardScaler\n",
    "sc = StandardScaler()\n",
    "X_train = sc.fit_transform(X_train)\n",
    "X_test = sc.transform(X_test)\n",
    "\n",
    "# Fitting classifier to the Training set\n",
    "from sklearn.linear_model import LogisticRegression\n",
    "classifier=LogisticRegression(random_state=0)\n",
    "classifier.fit(X_train,y_train)"
   ]
  },
  {
   "cell_type": "code",
   "execution_count": 7,
   "id": "1539fa37",
   "metadata": {},
   "outputs": [],
   "source": [
    "# Predicting the Test set results\n",
    "y_preds = classifier.predict(X_test)"
   ]
  },
  {
   "cell_type": "code",
   "execution_count": 8,
   "id": "18da6dd8",
   "metadata": {},
   "outputs": [
    {
     "data": {
      "text/plain": [
       "array([[65,  3],\n",
       "       [ 8, 24]], dtype=int64)"
      ]
     },
     "execution_count": 8,
     "metadata": {},
     "output_type": "execute_result"
    }
   ],
   "source": [
    "# Making the Confusion Matrix\n",
    "from sklearn.metrics import confusion_matrix\n",
    "cm = confusion_matrix(y_test, y_preds)\n",
    "cm"
   ]
  },
  {
   "cell_type": "code",
   "execution_count": 9,
   "id": "7d18e2e0",
   "metadata": {},
   "outputs": [
    {
     "data": {
      "image/png": "[encoded data removed]",
      "text/plain": [
       "<Figure size 640x480 with 2 Axes>"
      ]
     },
     "metadata": {},
     "output_type": "display_data"
    }
   ],
   "source": [
    "from sklearn.metrics import ConfusionMatrixDisplay\n",
    "disp = ConfusionMatrixDisplay(confusion_matrix=cm, display_labels=classifier.classes_)\n",
    "\n",
    "disp.plot()\n",
    "plt.show()"
   ]
  },
  {
   "cell_type": "code",
   "execution_count": 10,
   "id": "e090a83d",
   "metadata": {
    "scrolled": true
   },
   "outputs": [
    {
     "data": {
      "image/png": "[encoded data removed]",
      "text/plain": [
       "<Figure size 640x480 with 16 Axes>"
      ]
     },
     "metadata": {},
     "output_type": "display_data"
    }
   ],
   "source": [
    "scatter_matrix(dataset);"
   ]
  },
  {
   "cell_type": "code",
   "execution_count": 11,
   "id": "dfe797a8",
   "metadata": {},
   "outputs": [],
   "source": [
    "classes=('red', 'green')"
   ]
  },
  {
   "cell_type": "code",
   "execution_count": 12,
   "id": "fcbc8512",
   "metadata": {},
   "outputs": [
    {
     "name": "stderr",
     "output_type": "stream",
     "text": [
      "*c* argument looks like a single numeric RGB or RGBA sequence, which should be avoided as value-mapping will have precedence in case its length matches with *x* & *y*.  Please use the *color* keyword-argument or provide a 2D array with a single row if you intend to specify the same RGB or RGBA value for all points.\n",
      "*c* argument looks like a single numeric RGB or RGBA sequence, which should be avoided as value-mapping will have precedence in case its length matches with *x* & *y*.  Please use the *color* keyword-argument or provide a 2D array with a single row if you intend to specify the same RGB or RGBA value for all points.\n"
     ]
    },
    {
     "data": {
      "image/png": "[encoded data removed]",
      "text/plain": [
       "<Figure size 640x480 with 1 Axes>"
      ]
     },
     "metadata": {},
     "output_type": "display_data"
    }
   ],
   "source": [
    "# Visualising the Training set results\n",
    "drawClasses(X_train, y_train,0,1,'Training set','Age','Estimated Salary',classes,classifier)"
   ]
  },
  {
   "cell_type": "code",
   "execution_count": 13,
   "id": "1f92edac",
   "metadata": {},
   "outputs": [
    {
     "name": "stderr",
     "output_type": "stream",
     "text": [
      "*c* argument looks like a single numeric RGB or RGBA sequence, which should be avoided as value-mapping will have precedence in case its length matches with *x* & *y*.  Please use the *color* keyword-argument or provide a 2D array with a single row if you intend to specify the same RGB or RGBA value for all points.\n",
      "*c* argument looks like a single numeric RGB or RGBA sequence, which should be avoided as value-mapping will have precedence in case its length matches with *x* & *y*.  Please use the *color* keyword-argument or provide a 2D array with a single row if you intend to specify the same RGB or RGBA value for all points.\n"
     ]
    },
    {
     "data": {
      "image/png": "[encoded data removed]",
      "text/plain": [
       "<Figure size 640x480 with 1 Axes>"
      ]
     },
     "metadata": {},
     "output_type": "display_data"
    }
   ],
   "source": [
    "# Visualising the test set results\n",
    "drawClasses(X_test, y_test,0,1,'Test set','Age','Estimated Salary',classes,classifier)"
   ]
  },
  {
   "cell_type": "markdown",
   "id": "37de96bd",
   "metadata": {},
   "source": [
    "# Exo 2"
   ]
  },
  {
   "cell_type": "markdown",
   "id": "29cc0593",
   "metadata": {},
   "source": [
    "#### Using a logistic Regression to predict wheter or not a patient has a diabete."
   ]
  },
  {
   "cell_type": "markdown",
   "id": "7d03353e",
   "metadata": {},
   "source": [
    "* pima-indians-diabetes dataset"
   ]
  },
  {
   "cell_type": "code",
   "execution_count": 14,
   "id": "c082eaa3",
   "metadata": {},
   "outputs": [
    {
     "data": {
      "text/html": [
       "<div>\n",
       "<style scoped>\n",
       "    .dataframe tbody tr th:only-of-type {\n",
       "        vertical-align: middle;\n",
       "    }\n",
       "\n",
       "    .dataframe tbody tr th {\n",
       "        vertical-align: top;\n",
       "    }\n",
       "\n",
       "    .dataframe thead th {\n",
       "        text-align: right;\n",
       "    }\n",
       "</style>\n",
       "<table border=\"1\" class=\"dataframe\">\n",
       "  <thead>\n",
       "    <tr style=\"text-align: right;\">\n",
       "      <th></th>\n",
       "      <th>preg</th>\n",
       "      <th>plas</th>\n",
       "      <th>pres</th>\n",
       "      <th>skin</th>\n",
       "      <th>test</th>\n",
       "      <th>mass</th>\n",
       "      <th>pedi</th>\n",
       "      <th>age</th>\n",
       "      <th>class</th>\n",
       "    </tr>\n",
       "  </thead>\n",
       "  <tbody>\n",
       "    <tr>\n",
       "      <th>0</th>\n",
       "      <td>6</td>\n",
       "      <td>148</td>\n",
       "      <td>72</td>\n",
       "      <td>35</td>\n",
       "      <td>0</td>\n",
       "      <td>33.6</td>\n",
       "      <td>0.627</td>\n",
       "      <td>50</td>\n",
       "      <td>1</td>\n",
       "    </tr>\n",
       "    <tr>\n",
       "      <th>1</th>\n",
       "      <td>1</td>\n",
       "      <td>85</td>\n",
       "      <td>66</td>\n",
       "      <td>29</td>\n",
       "      <td>0</td>\n",
       "      <td>26.6</td>\n",
       "      <td>0.351</td>\n",
       "      <td>31</td>\n",
       "      <td>0</td>\n",
       "    </tr>\n",
       "    <tr>\n",
       "      <th>2</th>\n",
       "      <td>8</td>\n",
       "      <td>183</td>\n",
       "      <td>64</td>\n",
       "      <td>0</td>\n",
       "      <td>0</td>\n",
       "      <td>23.3</td>\n",
       "      <td>0.672</td>\n",
       "      <td>32</td>\n",
       "      <td>1</td>\n",
       "    </tr>\n",
       "    <tr>\n",
       "      <th>3</th>\n",
       "      <td>1</td>\n",
       "      <td>89</td>\n",
       "      <td>66</td>\n",
       "      <td>23</td>\n",
       "      <td>94</td>\n",
       "      <td>28.1</td>\n",
       "      <td>0.167</td>\n",
       "      <td>21</td>\n",
       "      <td>0</td>\n",
       "    </tr>\n",
       "    <tr>\n",
       "      <th>4</th>\n",
       "      <td>0</td>\n",
       "      <td>137</td>\n",
       "      <td>40</td>\n",
       "      <td>35</td>\n",
       "      <td>168</td>\n",
       "      <td>43.1</td>\n",
       "      <td>2.288</td>\n",
       "      <td>33</td>\n",
       "      <td>1</td>\n",
       "    </tr>\n",
       "  </tbody>\n",
       "</table>\n",
       "</div>"
      ],
      "text/plain": [
       "   preg  plas  pres  skin  test  mass   pedi  age  class\n",
       "0     6   148    72    35     0  33.6  0.627   50      1\n",
       "1     1    85    66    29     0  26.6  0.351   31      0\n",
       "2     8   183    64     0     0  23.3  0.672   32      1\n",
       "3     1    89    66    23    94  28.1  0.167   21      0\n",
       "4     0   137    40    35   168  43.1  2.288   33      1"
      ]
     },
     "execution_count": 14,
     "metadata": {},
     "output_type": "execute_result"
    }
   ],
   "source": [
    "filename = './datasets/pima-indians-diabetes.data.csv'\n",
    "names = ['preg', 'plas', 'pres', 'skin', 'test', 'mass', 'pedi', 'age', 'class']\n",
    "df1 = pd.read_csv(filename, names=names, delimiter=\",\")\n",
    "df1.head()"
   ]
  },
  {
   "cell_type": "code",
   "execution_count": 15,
   "id": "c45009e7",
   "metadata": {},
   "outputs": [],
   "source": [
    "X = df1.drop('class', axis=1)\n",
    "y = df1['class']"
   ]
  },
  {
   "cell_type": "code",
   "execution_count": 16,
   "id": "5507e008",
   "metadata": {},
   "outputs": [],
   "source": [
    "# Splitting the dataset into the Training set and Test set\n",
    "from sklearn.model_selection import train_test_split\n",
    "X_train, X_test, y_train, y_test = train_test_split(X, y, test_size = 0.25, random_state = 0)"
   ]
  },
  {
   "cell_type": "code",
   "execution_count": 17,
   "id": "bf0baf14",
   "metadata": {},
   "outputs": [
    {
     "data": {
      "text/html": [
       "<style>#sk-container-id-2 {color: black;background-color: white;}#sk-container-id-2 pre{padding: 0;}#sk-container-id-2 div.sk-toggleable {background-color: white;}#sk-container-id-2 label.sk-toggleable__label {cursor: pointer;display: block;width: 100%;margin-bottom: 0;padding: 0.3em;box-sizing: border-box;text-align: center;}#sk-container-id-2 label.sk-toggleable__label-arrow:before {content: \"▸\";float: left;margin-right: 0.25em;color: #696969;}#sk-container-id-2 label.sk-toggleable__label-arrow:hover:before {color: black;}#sk-container-id-2 div.sk-estimator:hover label.sk-toggleable__label-arrow:before {color: black;}#sk-container-id-2 div.sk-toggleable__content {max-height: 0;max-width: 0;overflow: hidden;text-align: left;background-color: #f0f8ff;}#sk-container-id-2 div.sk-toggleable__content pre {margin: 0.2em;color: black;border-radius: 0.25em;background-color: #f0f8ff;}#sk-container-id-2 input.sk-toggleable__control:checked~div.sk-toggleable__content {max-height: 200px;max-width: 100%;overflow: auto;}#sk-container-id-2 input.sk-toggleable__control:checked~label.sk-toggleable__label-arrow:before {content: \"▾\";}#sk-container-id-2 div.sk-estimator input.sk-toggleable__control:checked~label.sk-toggleable__label {background-color: #d4ebff;}#sk-container-id-2 div.sk-label input.sk-toggleable__control:checked~label.sk-toggleable__label {background-color: #d4ebff;}#sk-container-id-2 input.sk-hidden--visually {border: 0;clip: rect(1px 1px 1px 1px);clip: rect(1px, 1px, 1px, 1px);height: 1px;margin: -1px;overflow: hidden;padding: 0;position: absolute;width: 1px;}#sk-container-id-2 div.sk-estimator {font-family: monospace;background-color: #f0f8ff;border: 1px dotted black;border-radius: 0.25em;box-sizing: border-box;margin-bottom: 0.5em;}#sk-container-id-2 div.sk-estimator:hover {background-color: #d4ebff;}#sk-container-id-2 div.sk-parallel-item::after {content: \"\";width: 100%;border-bottom: 1px solid gray;flex-grow: 1;}#sk-container-id-2 div.sk-label:hover label.sk-toggleable__label {background-color: #d4ebff;}#sk-container-id-2 div.sk-serial::before {content: \"\";position: absolute;border-left: 1px solid gray;box-sizing: border-box;top: 0;bottom: 0;left: 50%;z-index: 0;}#sk-container-id-2 div.sk-serial {display: flex;flex-direction: column;align-items: center;background-color: white;padding-right: 0.2em;padding-left: 0.2em;position: relative;}#sk-container-id-2 div.sk-item {position: relative;z-index: 1;}#sk-container-id-2 div.sk-parallel {display: flex;align-items: stretch;justify-content: center;background-color: white;position: relative;}#sk-container-id-2 div.sk-item::before, #sk-container-id-2 div.sk-parallel-item::before {content: \"\";position: absolute;border-left: 1px solid gray;box-sizing: border-box;top: 0;bottom: 0;left: 50%;z-index: -1;}#sk-container-id-2 div.sk-parallel-item {display: flex;flex-direction: column;z-index: 1;position: relative;background-color: white;}#sk-container-id-2 div.sk-parallel-item:first-child::after {align-self: flex-end;width: 50%;}#sk-container-id-2 div.sk-parallel-item:last-child::after {align-self: flex-start;width: 50%;}#sk-container-id-2 div.sk-parallel-item:only-child::after {width: 0;}#sk-container-id-2 div.sk-dashed-wrapped {border: 1px dashed gray;margin: 0 0.4em 0.5em 0.4em;box-sizing: border-box;padding-bottom: 0.4em;background-color: white;}#sk-container-id-2 div.sk-label label {font-family: monospace;font-weight: bold;display: inline-block;line-height: 1.2em;}#sk-container-id-2 div.sk-label-container {text-align: center;}#sk-container-id-2 div.sk-container {/* jupyter's `normalize.less` sets `[hidden] { display: none; }` but bootstrap.min.css set `[hidden] { display: none !important; }` so we also need the `!important` here to be able to override the default hidden behavior on the sphinx rendered scikit-learn.org. See: https://github.com/scikit-learn/scikit-learn/issues/21755 */display: inline-block !important;position: relative;}#sk-container-id-2 div.sk-text-repr-fallback {display: none;}</style><div id=\"sk-container-id-2\" class=\"sk-top-container\"><div class=\"sk-text-repr-fallback\"><pre>LogisticRegression(random_state=0)</pre><b>In a Jupyter environment, please rerun this cell to show the HTML representation or trust the notebook. <br />On GitHub, the HTML representation is unable to render, please try loading this page with nbviewer.org.</b></div><div class=\"sk-container\" hidden><div class=\"sk-item\"><div class=\"sk-estimator sk-toggleable\"><input class=\"sk-toggleable__control sk-hidden--visually\" id=\"sk-estimator-id-2\" type=\"checkbox\" checked><label for=\"sk-estimator-id-2\" class=\"sk-toggleable__label sk-toggleable__label-arrow\">LogisticRegression</label><div class=\"sk-toggleable__content\"><pre>LogisticRegression(random_state=0)</pre></div></div></div></div></div>"
      ],
      "text/plain": [
       "LogisticRegression(random_state=0)"
      ]
     },
     "execution_count": 17,
     "metadata": {},
     "output_type": "execute_result"
    }
   ],
   "source": [
    "# Feature Scaling\n",
    "from sklearn.preprocessing import StandardScaler\n",
    "sc = StandardScaler()\n",
    "X_train = sc.fit_transform(X_train)\n",
    "X_test = sc.transform(X_test)\n",
    "\n",
    "# Fitting classifier to the Training set\n",
    "from sklearn.linear_model import LogisticRegression\n",
    "model=LogisticRegression(random_state=0)\n",
    "model.fit(X_train,y_train)"
   ]
  },
  {
   "cell_type": "code",
   "execution_count": 18,
   "id": "ae0a9f98",
   "metadata": {},
   "outputs": [],
   "source": [
    "# Predicting the Test set results\n",
    "y_preds = model.predict(X_test)"
   ]
  },
  {
   "cell_type": "code",
   "execution_count": 19,
   "id": "e9a1c117",
   "metadata": {},
   "outputs": [
    {
     "data": {
      "text/plain": [
       "0.8020833333333334"
      ]
     },
     "execution_count": 19,
     "metadata": {},
     "output_type": "execute_result"
    }
   ],
   "source": [
    "model.score(X_test, y_test)"
   ]
  },
  {
   "cell_type": "code",
   "execution_count": 20,
   "id": "78d43675",
   "metadata": {
    "scrolled": true
   },
   "outputs": [
    {
     "data": {
      "image/png": "[encoded data removed]",
      "text/plain": [
       "<Figure size 640x480 with 2 Axes>"
      ]
     },
     "metadata": {},
     "output_type": "display_data"
    }
   ],
   "source": [
    "from sklearn.metrics import confusion_matrix, ConfusionMatrixDisplay\n",
    "cm = confusion_matrix(y_test, y_preds)\n",
    "disp = ConfusionMatrixDisplay(confusion_matrix=cm, display_labels=model.classes_)\n",
    "\n",
    "disp.plot()\n",
    "plt.show()"
   ]
  },
  {
   "cell_type": "markdown",
   "id": "33343ee0",
   "metadata": {},
   "source": [
    "* Iris Plant dataset"
   ]
  },
  {
   "cell_type": "code",
   "execution_count": 21,
   "id": "27a5376f",
   "metadata": {},
   "outputs": [
    {
     "data": {
      "text/html": [
       "<div>\n",
       "<style scoped>\n",
       "    .dataframe tbody tr th:only-of-type {\n",
       "        vertical-align: middle;\n",
       "    }\n",
       "\n",
       "    .dataframe tbody tr th {\n",
       "        vertical-align: top;\n",
       "    }\n",
       "\n",
       "    .dataframe thead th {\n",
       "        text-align: right;\n",
       "    }\n",
       "</style>\n",
       "<table border=\"1\" class=\"dataframe\">\n",
       "  <thead>\n",
       "    <tr style=\"text-align: right;\">\n",
       "      <th></th>\n",
       "      <th>sepal length in cm</th>\n",
       "      <th>sepal width in cm</th>\n",
       "      <th>petal length in cm</th>\n",
       "      <th>petal width in cm</th>\n",
       "      <th>class</th>\n",
       "    </tr>\n",
       "  </thead>\n",
       "  <tbody>\n",
       "    <tr>\n",
       "      <th>0</th>\n",
       "      <td>5.1</td>\n",
       "      <td>3.5</td>\n",
       "      <td>1.4</td>\n",
       "      <td>0.2</td>\n",
       "      <td>0</td>\n",
       "    </tr>\n",
       "    <tr>\n",
       "      <th>1</th>\n",
       "      <td>4.9</td>\n",
       "      <td>3.0</td>\n",
       "      <td>1.4</td>\n",
       "      <td>0.2</td>\n",
       "      <td>0</td>\n",
       "    </tr>\n",
       "    <tr>\n",
       "      <th>2</th>\n",
       "      <td>4.7</td>\n",
       "      <td>3.2</td>\n",
       "      <td>1.3</td>\n",
       "      <td>0.2</td>\n",
       "      <td>0</td>\n",
       "    </tr>\n",
       "    <tr>\n",
       "      <th>3</th>\n",
       "      <td>4.6</td>\n",
       "      <td>3.1</td>\n",
       "      <td>1.5</td>\n",
       "      <td>0.2</td>\n",
       "      <td>0</td>\n",
       "    </tr>\n",
       "    <tr>\n",
       "      <th>4</th>\n",
       "      <td>5.0</td>\n",
       "      <td>3.6</td>\n",
       "      <td>1.4</td>\n",
       "      <td>0.2</td>\n",
       "      <td>0</td>\n",
       "    </tr>\n",
       "  </tbody>\n",
       "</table>\n",
       "</div>"
      ],
      "text/plain": [
       "   sepal length in cm  sepal width in cm  petal length in cm  \\\n",
       "0                 5.1                3.5                 1.4   \n",
       "1                 4.9                3.0                 1.4   \n",
       "2                 4.7                3.2                 1.3   \n",
       "3                 4.6                3.1                 1.5   \n",
       "4                 5.0                3.6                 1.4   \n",
       "\n",
       "   petal width in cm  class  \n",
       "0                0.2      0  \n",
       "1                0.2      0  \n",
       "2                0.2      0  \n",
       "3                0.2      0  \n",
       "4                0.2      0  "
      ]
     },
     "execution_count": 21,
     "metadata": {},
     "output_type": "execute_result"
    }
   ],
   "source": [
    "filename = './datasets/iris_proc.data.csv'\n",
    "names = ['sepal length in cm', 'sepal width in cm', 'petal length in cm', 'petal width in cm', 'class']\n",
    "df2 = pd.read_csv(filename, names=names, delimiter=\",\")\n",
    "df2.head()"
   ]
  },
  {
   "cell_type": "code",
   "execution_count": 22,
   "id": "c68af0c0",
   "metadata": {},
   "outputs": [],
   "source": [
    "X = df2.drop('class', axis=1)\n",
    "y = df2['class']"
   ]
  },
  {
   "cell_type": "code",
   "execution_count": 23,
   "id": "55d21358",
   "metadata": {},
   "outputs": [],
   "source": [
    "# Splitting the dataset into the Training set and Test set\n",
    "from sklearn.model_selection import train_test_split\n",
    "X_train, X_test, y_train, y_test = train_test_split(X, y, test_size = 0.25, random_state = 0)"
   ]
  },
  {
   "cell_type": "code",
   "execution_count": 24,
   "id": "d7d358e4",
   "metadata": {},
   "outputs": [
    {
     "data": {
      "text/html": [
       "<style>#sk-container-id-3 {color: black;background-color: white;}#sk-container-id-3 pre{padding: 0;}#sk-container-id-3 div.sk-toggleable {background-color: white;}#sk-container-id-3 label.sk-toggleable__label {cursor: pointer;display: block;width: 100%;margin-bottom: 0;padding: 0.3em;box-sizing: border-box;text-align: center;}#sk-container-id-3 label.sk-toggleable__label-arrow:before {content: \"▸\";float: left;margin-right: 0.25em;color: #696969;}#sk-container-id-3 label.sk-toggleable__label-arrow:hover:before {color: black;}#sk-container-id-3 div.sk-estimator:hover label.sk-toggleable__label-arrow:before {color: black;}#sk-container-id-3 div.sk-toggleable__content {max-height: 0;max-width: 0;overflow: hidden;text-align: left;background-color: #f0f8ff;}#sk-container-id-3 div.sk-toggleable__content pre {margin: 0.2em;color: black;border-radius: 0.25em;background-color: #f0f8ff;}#sk-container-id-3 input.sk-toggleable__control:checked~div.sk-toggleable__content {max-height: 200px;max-width: 100%;overflow: auto;}#sk-container-id-3 input.sk-toggleable__control:checked~label.sk-toggleable__label-arrow:before {content: \"▾\";}#sk-container-id-3 div.sk-estimator input.sk-toggleable__control:checked~label.sk-toggleable__label {background-color: #d4ebff;}#sk-container-id-3 div.sk-label input.sk-toggleable__control:checked~label.sk-toggleable__label {background-color: #d4ebff;}#sk-container-id-3 input.sk-hidden--visually {border: 0;clip: rect(1px 1px 1px 1px);clip: rect(1px, 1px, 1px, 1px);height: 1px;margin: -1px;overflow: hidden;padding: 0;position: absolute;width: 1px;}#sk-container-id-3 div.sk-estimator {font-family: monospace;background-color: #f0f8ff;border: 1px dotted black;border-radius: 0.25em;box-sizing: border-box;margin-bottom: 0.5em;}#sk-container-id-3 div.sk-estimator:hover {background-color: #d4ebff;}#sk-container-id-3 div.sk-parallel-item::after {content: \"\";width: 100%;border-bottom: 1px solid gray;flex-grow: 1;}#sk-container-id-3 div.sk-label:hover label.sk-toggleable__label {background-color: #d4ebff;}#sk-container-id-3 div.sk-serial::before {content: \"\";position: absolute;border-left: 1px solid gray;box-sizing: border-box;top: 0;bottom: 0;left: 50%;z-index: 0;}#sk-container-id-3 div.sk-serial {display: flex;flex-direction: column;align-items: center;background-color: white;padding-right: 0.2em;padding-left: 0.2em;position: relative;}#sk-container-id-3 div.sk-item {position: relative;z-index: 1;}#sk-container-id-3 div.sk-parallel {display: flex;align-items: stretch;justify-content: center;background-color: white;position: relative;}#sk-container-id-3 div.sk-item::before, #sk-container-id-3 div.sk-parallel-item::before {content: \"\";position: absolute;border-left: 1px solid gray;box-sizing: border-box;top: 0;bottom: 0;left: 50%;z-index: -1;}#sk-container-id-3 div.sk-parallel-item {display: flex;flex-direction: column;z-index: 1;position: relative;background-color: white;}#sk-container-id-3 div.sk-parallel-item:first-child::after {align-self: flex-end;width: 50%;}#sk-container-id-3 div.sk-parallel-item:last-child::after {align-self: flex-start;width: 50%;}#sk-container-id-3 div.sk-parallel-item:only-child::after {width: 0;}#sk-container-id-3 div.sk-dashed-wrapped {border: 1px dashed gray;margin: 0 0.4em 0.5em 0.4em;box-sizing: border-box;padding-bottom: 0.4em;background-color: white;}#sk-container-id-3 div.sk-label label {font-family: monospace;font-weight: bold;display: inline-block;line-height: 1.2em;}#sk-container-id-3 div.sk-label-container {text-align: center;}#sk-container-id-3 div.sk-container {/* jupyter's `normalize.less` sets `[hidden] { display: none; }` but bootstrap.min.css set `[hidden] { display: none !important; }` so we also need the `!important` here to be able to override the default hidden behavior on the sphinx rendered scikit-learn.org. See: https://github.com/scikit-learn/scikit-learn/issues/21755 */display: inline-block !important;position: relative;}#sk-container-id-3 div.sk-text-repr-fallback {display: none;}</style><div id=\"sk-container-id-3\" class=\"sk-top-container\"><div class=\"sk-text-repr-fallback\"><pre>LogisticRegression(random_state=0)</pre><b>In a Jupyter environment, please rerun this cell to show the HTML representation or trust the notebook. <br />On GitHub, the HTML representation is unable to render, please try loading this page with nbviewer.org.</b></div><div class=\"sk-container\" hidden><div class=\"sk-item\"><div class=\"sk-estimator sk-toggleable\"><input class=\"sk-toggleable__control sk-hidden--visually\" id=\"sk-estimator-id-3\" type=\"checkbox\" checked><label for=\"sk-estimator-id-3\" class=\"sk-toggleable__label sk-toggleable__label-arrow\">LogisticRegression</label><div class=\"sk-toggleable__content\"><pre>LogisticRegression(random_state=0)</pre></div></div></div></div></div>"
      ],
      "text/plain": [
       "LogisticRegression(random_state=0)"
      ]
     },
     "execution_count": 24,
     "metadata": {},
     "output_type": "execute_result"
    }
   ],
   "source": [
    "# Feature Scaling\n",
    "from sklearn.preprocessing import StandardScaler\n",
    "sc = StandardScaler()\n",
    "X_train = sc.fit_transform(X_train)\n",
    "X_test = sc.transform(X_test)\n",
    "\n",
    "# Fitting classifier to the Training set\n",
    "from sklearn.linear_model import LogisticRegression\n",
    "model=LogisticRegression(random_state=0)\n",
    "model.fit(X_train,y_train)"
   ]
  },
  {
   "cell_type": "code",
   "execution_count": 25,
   "id": "805ff3cd",
   "metadata": {},
   "outputs": [],
   "source": [
    "# Predicting the Test set results\n",
    "y_preds = model.predict(X_test)"
   ]
  },
  {
   "cell_type": "code",
   "execution_count": 26,
   "id": "b67b4f88",
   "metadata": {},
   "outputs": [
    {
     "data": {
      "text/plain": [
       "0.9736842105263158"
      ]
     },
     "execution_count": 26,
     "metadata": {},
     "output_type": "execute_result"
    }
   ],
   "source": [
    "model.score(X_test, y_test)"
   ]
  },
  {
   "cell_type": "code",
   "execution_count": 27,
   "id": "54a922c2",
   "metadata": {},
   "outputs": [
    {
     "data": {
      "image/png": "[encoded data removed]",
      "text/plain": [
       "<Figure size 640x480 with 2 Axes>"
      ]
     },
     "metadata": {},
     "output_type": "display_data"
    }
   ],
   "source": [
    "from sklearn.metrics import confusion_matrix, ConfusionMatrixDisplay\n",
    "cm = confusion_matrix(y_test, y_preds)\n",
    "disp = ConfusionMatrixDisplay(confusion_matrix=cm, display_labels=model.classes_)\n",
    "\n",
    "disp.plot()\n",
    "plt.show()"
   ]
  },
  {
   "cell_type": "markdown",
   "id": "e2825bb7",
   "metadata": {},
   "source": [
    "# Exo 3"
   ]
  },
  {
   "cell_type": "markdown",
   "id": "b3e4339b",
   "metadata": {},
   "source": [
    "#### This data set contains details of a bank's customers and the target variable is a binary variable(Exited) reflecting the fact whether the customer left the bank (closed his account) or he continues to be a customer."
   ]
  },
  {
   "cell_type": "code",
   "execution_count": 3,
   "id": "9556f557",
   "metadata": {
    "scrolled": true
   },
   "outputs": [
    {
     "data": {
      "text/html": [
       "<div>\n",
       "<style scoped>\n",
       "    .dataframe tbody tr th:only-of-type {\n",
       "        vertical-align: middle;\n",
       "    }\n",
       "\n",
       "    .dataframe tbody tr th {\n",
       "        vertical-align: top;\n",
       "    }\n",
       "\n",
       "    .dataframe thead th {\n",
       "        text-align: right;\n",
       "    }\n",
       "</style>\n",
       "<table border=\"1\" class=\"dataframe\">\n",
       "  <thead>\n",
       "    <tr style=\"text-align: right;\">\n",
       "      <th></th>\n",
       "      <th>RowNumber</th>\n",
       "      <th>CustomerId</th>\n",
       "      <th>Surname</th>\n",
       "      <th>CreditScore</th>\n",
       "      <th>Geography</th>\n",
       "      <th>Gender</th>\n",
       "      <th>Age</th>\n",
       "      <th>Tenure</th>\n",
       "      <th>Balance</th>\n",
       "      <th>NumOfProducts</th>\n",
       "      <th>HasCrCard</th>\n",
       "      <th>IsActiveMember</th>\n",
       "      <th>EstimatedSalary</th>\n",
       "      <th>Exited</th>\n",
       "    </tr>\n",
       "  </thead>\n",
       "  <tbody>\n",
       "    <tr>\n",
       "      <th>0</th>\n",
       "      <td>1</td>\n",
       "      <td>15634602</td>\n",
       "      <td>Hargrave</td>\n",
       "      <td>619</td>\n",
       "      <td>France</td>\n",
       "      <td>Female</td>\n",
       "      <td>42</td>\n",
       "      <td>2</td>\n",
       "      <td>0.00</td>\n",
       "      <td>1</td>\n",
       "      <td>1</td>\n",
       "      <td>1</td>\n",
       "      <td>101348.88</td>\n",
       "      <td>1</td>\n",
       "    </tr>\n",
       "    <tr>\n",
       "      <th>1</th>\n",
       "      <td>2</td>\n",
       "      <td>15647311</td>\n",
       "      <td>Hill</td>\n",
       "      <td>608</td>\n",
       "      <td>Spain</td>\n",
       "      <td>Female</td>\n",
       "      <td>41</td>\n",
       "      <td>1</td>\n",
       "      <td>83807.86</td>\n",
       "      <td>1</td>\n",
       "      <td>0</td>\n",
       "      <td>1</td>\n",
       "      <td>112542.58</td>\n",
       "      <td>0</td>\n",
       "    </tr>\n",
       "    <tr>\n",
       "      <th>2</th>\n",
       "      <td>3</td>\n",
       "      <td>15619304</td>\n",
       "      <td>Onio</td>\n",
       "      <td>502</td>\n",
       "      <td>France</td>\n",
       "      <td>Female</td>\n",
       "      <td>42</td>\n",
       "      <td>8</td>\n",
       "      <td>159660.80</td>\n",
       "      <td>3</td>\n",
       "      <td>1</td>\n",
       "      <td>0</td>\n",
       "      <td>113931.57</td>\n",
       "      <td>1</td>\n",
       "    </tr>\n",
       "    <tr>\n",
       "      <th>3</th>\n",
       "      <td>4</td>\n",
       "      <td>15701354</td>\n",
       "      <td>Boni</td>\n",
       "      <td>699</td>\n",
       "      <td>France</td>\n",
       "      <td>Female</td>\n",
       "      <td>39</td>\n",
       "      <td>1</td>\n",
       "      <td>0.00</td>\n",
       "      <td>2</td>\n",
       "      <td>0</td>\n",
       "      <td>0</td>\n",
       "      <td>93826.63</td>\n",
       "      <td>0</td>\n",
       "    </tr>\n",
       "    <tr>\n",
       "      <th>4</th>\n",
       "      <td>5</td>\n",
       "      <td>15737888</td>\n",
       "      <td>Mitchell</td>\n",
       "      <td>850</td>\n",
       "      <td>Spain</td>\n",
       "      <td>Female</td>\n",
       "      <td>43</td>\n",
       "      <td>2</td>\n",
       "      <td>125510.82</td>\n",
       "      <td>1</td>\n",
       "      <td>1</td>\n",
       "      <td>1</td>\n",
       "      <td>79084.10</td>\n",
       "      <td>0</td>\n",
       "    </tr>\n",
       "  </tbody>\n",
       "</table>\n",
       "</div>"
      ],
      "text/plain": [
       "   RowNumber  CustomerId   Surname  CreditScore Geography  Gender  Age  \\\n",
       "0          1    15634602  Hargrave          619    France  Female   42   \n",
       "1          2    15647311      Hill          608     Spain  Female   41   \n",
       "2          3    15619304      Onio          502    France  Female   42   \n",
       "3          4    15701354      Boni          699    France  Female   39   \n",
       "4          5    15737888  Mitchell          850     Spain  Female   43   \n",
       "\n",
       "   Tenure    Balance  NumOfProducts  HasCrCard  IsActiveMember  \\\n",
       "0       2       0.00              1          1               1   \n",
       "1       1   83807.86              1          0               1   \n",
       "2       8  159660.80              3          1               0   \n",
       "3       1       0.00              2          0               0   \n",
       "4       2  125510.82              1          1               1   \n",
       "\n",
       "   EstimatedSalary  Exited  \n",
       "0        101348.88       1  \n",
       "1        112542.58       0  \n",
       "2        113931.57       1  \n",
       "3         93826.63       0  \n",
       "4         79084.10       0  "
      ]
     },
     "execution_count": 3,
     "metadata": {},
     "output_type": "execute_result"
    }
   ],
   "source": [
    "# Importing the dataset\n",
    "dataset = pd.read_csv('./datasets/Churn_Modelling.csv')\n",
    "dataset.head()"
   ]
  },
  {
   "cell_type": "markdown",
   "id": "6ab6c8ee",
   "metadata": {},
   "source": [
    "* Data processing"
   ]
  },
  {
   "cell_type": "code",
   "execution_count": 4,
   "id": "0d37578a",
   "metadata": {},
   "outputs": [],
   "source": [
    "X = dataset.iloc[:, 3:13].values\n",
    "y = dataset.iloc[:, 13].values"
   ]
  },
  {
   "cell_type": "code",
   "execution_count": 5,
   "id": "002b8387",
   "metadata": {},
   "outputs": [],
   "source": [
    "# Encoding categorical data\n",
    "from sklearn.preprocessing import LabelEncoder, OneHotEncoder\n",
    "\n",
    "#label encoder uses number sequencing, new number for every category\n",
    "labelencoder_X_1 = LabelEncoder()\n",
    "X[:, 1] = labelencoder_X_1.fit_transform(X[:, 1]) #geography\n",
    "labelencoder_X_2 = LabelEncoder()\n",
    "X[:, 2] = labelencoder_X_2.fit_transform(X[:, 2]) #Gender"
   ]
  },
  {
   "cell_type": "code",
   "execution_count": 6,
   "id": "bb4130d1",
   "metadata": {
    "scrolled": true
   },
   "outputs": [
    {
     "data": {
      "text/plain": [
       "array([0, 0, 0, ..., 0, 1, 0], dtype=object)"
      ]
     },
     "execution_count": 6,
     "metadata": {},
     "output_type": "execute_result"
    }
   ],
   "source": [
    "X[:, 2] "
   ]
  },
  {
   "cell_type": "markdown",
   "id": "71928da7",
   "metadata": {},
   "source": [
    "Là on va se transformer que la colonne Geography car la colonne Gender a déja les bonnes valeurs (que 0 et 1)"
   ]
  },
  {
   "cell_type": "code",
   "execution_count": 7,
   "id": "74c47837",
   "metadata": {},
   "outputs": [],
   "source": [
    "from sklearn.compose import ColumnTransformer\n",
    "onehotencoder = ColumnTransformer([(\"Geography\",OneHotEncoder(),[1])], remainder='passthrough')\n",
    "X = onehotencoder.fit_transform(X)"
   ]
  },
  {
   "cell_type": "code",
   "execution_count": 8,
   "id": "48f8d261",
   "metadata": {},
   "outputs": [],
   "source": [
    "# Splitting the dataset into the Training set and Test set\n",
    "from sklearn.model_selection import train_test_split\n",
    "X_train, X_test, y_train, y_test = train_test_split(X, y, test_size = 0.2, random_state = 0)"
   ]
  },
  {
   "cell_type": "code",
   "execution_count": 9,
   "id": "b67bc9bc",
   "metadata": {},
   "outputs": [],
   "source": [
    "# Feature Scaling\n",
    "from sklearn.preprocessing import StandardScaler\n",
    "sc = StandardScaler()\n",
    "X_train = sc.fit_transform(X_train)\n",
    "X_test = sc.transform(X_test)"
   ]
  },
  {
   "cell_type": "markdown",
   "id": "c3028722",
   "metadata": {},
   "source": [
    "* let's make the ANN!"
   ]
  },
  {
   "cell_type": "code",
   "execution_count": 10,
   "id": "c36265a8",
   "metadata": {},
   "outputs": [],
   "source": [
    "# Importing the Keras libraries and packages\n",
    "import keras\n",
    "from keras.models import Sequential\n",
    "from keras.layers import Dense"
   ]
  },
  {
   "cell_type": "code",
   "execution_count": 11,
   "id": "375adfc0",
   "metadata": {},
   "outputs": [
    {
     "name": "stdout",
     "output_type": "stream",
     "text": [
      "Epoch 1/100\n",
      "800/800 [==============================] - 1s 692us/step - loss: 0.4866 - accuracy: 0.7960\n",
      "Epoch 2/100\n",
      "800/800 [==============================] - 1s 708us/step - loss: 0.4288 - accuracy: 0.7960\n",
      "Epoch 3/100\n",
      "800/800 [==============================] - 1s 705us/step - loss: 0.4243 - accuracy: 0.7960\n",
      "Epoch 4/100\n",
      "800/800 [==============================] - 1s 684us/step - loss: 0.4203 - accuracy: 0.8120\n",
      "Epoch 5/100\n",
      "800/800 [==============================] - 1s 963us/step - loss: 0.4172 - accuracy: 0.8244\n",
      "Epoch 6/100\n",
      "800/800 [==============================] - 1s 696us/step - loss: 0.4151 - accuracy: 0.8279\n",
      "Epoch 7/100\n",
      "800/800 [==============================] - 1s 663us/step - loss: 0.4133 - accuracy: 0.8309\n",
      "Epoch 8/100\n",
      "800/800 [==============================] - 1s 627us/step - loss: 0.4121 - accuracy: 0.8317\n",
      "Epoch 9/100\n",
      "800/800 [==============================] - 1s 661us/step - loss: 0.4109 - accuracy: 0.8335\n",
      "Epoch 10/100\n",
      "800/800 [==============================] - 1s 641us/step - loss: 0.4096 - accuracy: 0.8335\n",
      "Epoch 11/100\n",
      "800/800 [==============================] - 1s 634us/step - loss: 0.4090 - accuracy: 0.8344\n",
      "Epoch 12/100\n",
      "800/800 [==============================] - 1s 653us/step - loss: 0.4080 - accuracy: 0.8347\n",
      "Epoch 13/100\n",
      "800/800 [==============================] - 0s 624us/step - loss: 0.4075 - accuracy: 0.8346\n",
      "Epoch 14/100\n",
      "800/800 [==============================] - 1s 698us/step - loss: 0.4067 - accuracy: 0.8359\n",
      "Epoch 15/100\n",
      "800/800 [==============================] - 1s 650us/step - loss: 0.4064 - accuracy: 0.8341\n",
      "Epoch 16/100\n",
      "800/800 [==============================] - 1s 638us/step - loss: 0.4061 - accuracy: 0.8359\n",
      "Epoch 17/100\n",
      "800/800 [==============================] - 1s 645us/step - loss: 0.4055 - accuracy: 0.8357\n",
      "Epoch 18/100\n",
      "800/800 [==============================] - 1s 668us/step - loss: 0.4054 - accuracy: 0.8360\n",
      "Epoch 19/100\n",
      "800/800 [==============================] - 1s 673us/step - loss: 0.4050 - accuracy: 0.8353\n",
      "Epoch 20/100\n",
      "800/800 [==============================] - 1s 631us/step - loss: 0.4046 - accuracy: 0.8338\n",
      "Epoch 21/100\n",
      "800/800 [==============================] - 1s 649us/step - loss: 0.4048 - accuracy: 0.8350\n",
      "Epoch 22/100\n",
      "800/800 [==============================] - 1s 654us/step - loss: 0.4042 - accuracy: 0.8354\n",
      "Epoch 23/100\n",
      "800/800 [==============================] - 1s 732us/step - loss: 0.4041 - accuracy: 0.8354\n",
      "Epoch 24/100\n",
      "800/800 [==============================] - 1s 683us/step - loss: 0.4040 - accuracy: 0.8344\n",
      "Epoch 25/100\n",
      "800/800 [==============================] - 0s 608us/step - loss: 0.4038 - accuracy: 0.8359\n",
      "Epoch 26/100\n",
      "800/800 [==============================] - 1s 688us/step - loss: 0.4031 - accuracy: 0.8359\n",
      "Epoch 27/100\n",
      "800/800 [==============================] - 1s 650us/step - loss: 0.4031 - accuracy: 0.8353\n",
      "Epoch 28/100\n",
      "800/800 [==============================] - 0s 617us/step - loss: 0.4034 - accuracy: 0.8350\n",
      "Epoch 29/100\n",
      "800/800 [==============================] - 1s 643us/step - loss: 0.4027 - accuracy: 0.8353\n",
      "Epoch 30/100\n",
      "800/800 [==============================] - 0s 609us/step - loss: 0.4032 - accuracy: 0.8354\n",
      "Epoch 31/100\n",
      "800/800 [==============================] - 0s 615us/step - loss: 0.4030 - accuracy: 0.8345\n",
      "Epoch 32/100\n",
      "800/800 [==============================] - 0s 615us/step - loss: 0.4026 - accuracy: 0.8353\n",
      "Epoch 33/100\n",
      "800/800 [==============================] - 0s 617us/step - loss: 0.4026 - accuracy: 0.8345\n",
      "Epoch 34/100\n",
      "800/800 [==============================] - 1s 645us/step - loss: 0.4029 - accuracy: 0.8353\n",
      "Epoch 35/100\n",
      "800/800 [==============================] - 0s 618us/step - loss: 0.4021 - accuracy: 0.8345\n",
      "Epoch 36/100\n",
      "800/800 [==============================] - 0s 615us/step - loss: 0.4021 - accuracy: 0.8347\n",
      "Epoch 37/100\n",
      "800/800 [==============================] - 1s 667us/step - loss: 0.4022 - accuracy: 0.8349\n",
      "Epoch 38/100\n",
      "800/800 [==============================] - 0s 624us/step - loss: 0.4022 - accuracy: 0.8357\n",
      "Epoch 39/100\n",
      "800/800 [==============================] - 1s 629us/step - loss: 0.4021 - accuracy: 0.8342\n",
      "Epoch 40/100\n",
      "800/800 [==============================] - 1s 626us/step - loss: 0.4019 - accuracy: 0.8353\n",
      "Epoch 41/100\n",
      "800/800 [==============================] - 1s 629us/step - loss: 0.4024 - accuracy: 0.8354\n",
      "Epoch 42/100\n",
      "800/800 [==============================] - 0s 616us/step - loss: 0.4017 - accuracy: 0.8353\n",
      "Epoch 43/100\n",
      "800/800 [==============================] - 0s 620us/step - loss: 0.4015 - accuracy: 0.8344\n",
      "Epoch 44/100\n",
      "800/800 [==============================] - 0s 622us/step - loss: 0.4016 - accuracy: 0.8349\n",
      "Epoch 45/100\n",
      "800/800 [==============================] - 1s 626us/step - loss: 0.4013 - accuracy: 0.8355\n",
      "Epoch 46/100\n",
      "800/800 [==============================] - 0s 623us/step - loss: 0.4016 - accuracy: 0.8345\n",
      "Epoch 47/100\n",
      "800/800 [==============================] - 1s 638us/step - loss: 0.4016 - accuracy: 0.8369\n",
      "Epoch 48/100\n",
      "800/800 [==============================] - 1s 650us/step - loss: 0.4016 - accuracy: 0.8350\n",
      "Epoch 49/100\n",
      "800/800 [==============================] - 1s 705us/step - loss: 0.4015 - accuracy: 0.8331\n",
      "Epoch 50/100\n",
      "800/800 [==============================] - 1s 671us/step - loss: 0.4016 - accuracy: 0.8351\n",
      "Epoch 51/100\n",
      "800/800 [==============================] - 1s 898us/step - loss: 0.4013 - accuracy: 0.8350\n",
      "Epoch 52/100\n",
      "800/800 [==============================] - 1s 1ms/step - loss: 0.4009 - accuracy: 0.8369\n",
      "Epoch 53/100\n",
      "800/800 [==============================] - 1s 743us/step - loss: 0.4010 - accuracy: 0.8361\n",
      "Epoch 54/100\n",
      "800/800 [==============================] - 1s 638us/step - loss: 0.4015 - accuracy: 0.8350\n",
      "Epoch 55/100\n",
      "800/800 [==============================] - 1s 796us/step - loss: 0.4011 - accuracy: 0.8326\n",
      "Epoch 56/100\n",
      "800/800 [==============================] - 1s 695us/step - loss: 0.4011 - accuracy: 0.8356\n",
      "Epoch 57/100\n",
      "800/800 [==============================] - 1s 930us/step - loss: 0.4010 - accuracy: 0.8361\n",
      "Epoch 58/100\n",
      "800/800 [==============================] - 1s 679us/step - loss: 0.4007 - accuracy: 0.8345\n",
      "Epoch 59/100\n",
      "800/800 [==============================] - 1s 631us/step - loss: 0.4011 - accuracy: 0.8361\n",
      "Epoch 60/100\n",
      "800/800 [==============================] - 1s 706us/step - loss: 0.4012 - accuracy: 0.8367\n",
      "Epoch 61/100\n",
      "800/800 [==============================] - 1s 664us/step - loss: 0.4012 - accuracy: 0.8332\n",
      "Epoch 62/100\n",
      "800/800 [==============================] - 1s 651us/step - loss: 0.4012 - accuracy: 0.8364\n",
      "Epoch 63/100\n",
      "800/800 [==============================] - 0s 616us/step - loss: 0.4007 - accuracy: 0.8359\n",
      "Epoch 64/100\n",
      "800/800 [==============================] - 1s 649us/step - loss: 0.4012 - accuracy: 0.8341\n",
      "Epoch 65/100\n",
      "800/800 [==============================] - 1s 680us/step - loss: 0.4007 - accuracy: 0.8353\n",
      "Epoch 66/100\n",
      "800/800 [==============================] - 1s 886us/step - loss: 0.4004 - accuracy: 0.8360\n",
      "Epoch 67/100\n",
      "800/800 [==============================] - 1s 721us/step - loss: 0.4007 - accuracy: 0.8353\n",
      "Epoch 68/100\n",
      "800/800 [==============================] - 1s 680us/step - loss: 0.4010 - accuracy: 0.8349\n",
      "Epoch 69/100\n",
      "800/800 [==============================] - 0s 612us/step - loss: 0.4010 - accuracy: 0.8342\n",
      "Epoch 70/100\n",
      "800/800 [==============================] - 1s 750us/step - loss: 0.4009 - accuracy: 0.8346\n",
      "Epoch 71/100\n",
      "800/800 [==============================] - 1s 824us/step - loss: 0.4006 - accuracy: 0.8369\n",
      "Epoch 72/100\n",
      "800/800 [==============================] - 1s 695us/step - loss: 0.4008 - accuracy: 0.8345\n",
      "Epoch 73/100\n",
      "800/800 [==============================] - 1s 743us/step - loss: 0.4006 - accuracy: 0.8359\n",
      "Epoch 74/100\n",
      "800/800 [==============================] - 1s 717us/step - loss: 0.4005 - accuracy: 0.8351\n",
      "Epoch 75/100\n",
      "800/800 [==============================] - 1s 659us/step - loss: 0.4004 - accuracy: 0.8363\n",
      "Epoch 76/100\n",
      "800/800 [==============================] - 1s 631us/step - loss: 0.4005 - accuracy: 0.8356\n",
      "Epoch 77/100\n",
      "800/800 [==============================] - 1s 626us/step - loss: 0.4006 - accuracy: 0.8363\n",
      "Epoch 78/100\n",
      "800/800 [==============================] - 1s 663us/step - loss: 0.4006 - accuracy: 0.8354\n",
      "Epoch 79/100\n"
     ]
    },
    {
     "name": "stdout",
     "output_type": "stream",
     "text": [
      "800/800 [==============================] - 0s 609us/step - loss: 0.4005 - accuracy: 0.8354\n",
      "Epoch 80/100\n",
      "800/800 [==============================] - 0s 616us/step - loss: 0.4004 - accuracy: 0.8376\n",
      "Epoch 81/100\n",
      "800/800 [==============================] - 1s 669us/step - loss: 0.4005 - accuracy: 0.8342\n",
      "Epoch 82/100\n",
      "800/800 [==============================] - 0s 607us/step - loss: 0.4004 - accuracy: 0.8356\n",
      "Epoch 83/100\n",
      "800/800 [==============================] - 1s 643us/step - loss: 0.4004 - accuracy: 0.8340\n",
      "Epoch 84/100\n",
      "800/800 [==============================] - 1s 702us/step - loss: 0.4004 - accuracy: 0.8359\n",
      "Epoch 85/100\n",
      "800/800 [==============================] - 0s 620us/step - loss: 0.4007 - accuracy: 0.8361\n",
      "Epoch 86/100\n",
      "800/800 [==============================] - 0s 600us/step - loss: 0.4004 - accuracy: 0.8359\n",
      "Epoch 87/100\n",
      "800/800 [==============================] - 0s 590us/step - loss: 0.4007 - accuracy: 0.8346\n",
      "Epoch 88/100\n",
      "800/800 [==============================] - 0s 595us/step - loss: 0.4003 - accuracy: 0.8353\n",
      "Epoch 89/100\n",
      "800/800 [==============================] - 0s 602us/step - loss: 0.4007 - accuracy: 0.8340\n",
      "Epoch 90/100\n",
      "800/800 [==============================] - 0s 600us/step - loss: 0.3999 - accuracy: 0.8347\n",
      "Epoch 91/100\n",
      "800/800 [==============================] - 0s 599us/step - loss: 0.4002 - accuracy: 0.8344\n",
      "Epoch 92/100\n",
      "800/800 [==============================] - 0s 614us/step - loss: 0.4003 - accuracy: 0.8357\n",
      "Epoch 93/100\n",
      "800/800 [==============================] - 0s 613us/step - loss: 0.4002 - accuracy: 0.8340\n",
      "Epoch 94/100\n",
      "800/800 [==============================] - 1s 646us/step - loss: 0.4004 - accuracy: 0.8366\n",
      "Epoch 95/100\n",
      "800/800 [==============================] - 1s 784us/step - loss: 0.4004 - accuracy: 0.8342\n",
      "Epoch 96/100\n",
      "800/800 [==============================] - 1s 872us/step - loss: 0.4004 - accuracy: 0.8366\n",
      "Epoch 97/100\n",
      "800/800 [==============================] - 1s 810us/step - loss: 0.4000 - accuracy: 0.8366\n",
      "Epoch 98/100\n",
      "800/800 [==============================] - 1s 783us/step - loss: 0.4001 - accuracy: 0.8344\n",
      "Epoch 99/100\n",
      "800/800 [==============================] - 1s 846us/step - loss: 0.4000 - accuracy: 0.8349\n",
      "Epoch 100/100\n",
      "800/800 [==============================] - 1s 880us/step - loss: 0.4002 - accuracy: 0.8357\n"
     ]
    },
    {
     "data": {
      "text/plain": [
       "<tensorflow.python.keras.callbacks.History at 0x2481efd9430>"
      ]
     },
     "execution_count": 11,
     "metadata": {},
     "output_type": "execute_result"
    }
   ],
   "source": [
    "# Initialising the ANN\n",
    "classifier = Sequential()\n",
    "\n",
    "# Adding the input layer and the first hidden layer\n",
    "classifier.add(Dense(units = 6, kernel_initializer = 'uniform', activation = 'relu', input_dim = 12))\n",
    "\n",
    "# Adding the second hidden layer\n",
    "classifier.add(Dense(units = 6, kernel_initializer = 'uniform', activation = 'relu'))\n",
    "\n",
    "# Adding the output layer\n",
    "classifier.add(Dense(units = 1, kernel_initializer = 'uniform', activation = 'sigmoid'))\n",
    "\n",
    "# Compiling the ANN\n",
    "classifier.compile(optimizer = 'adam', loss = 'binary_crossentropy', metrics = ['accuracy'])\n",
    "\n",
    "# Fitting the ANN to the Training set\n",
    "classifier.fit(X_train, y_train, batch_size = 10, epochs = 100)"
   ]
  },
  {
   "cell_type": "markdown",
   "id": "9665e87b",
   "metadata": {},
   "source": [
    "* Making predictions and evaluating the model"
   ]
  },
  {
   "cell_type": "code",
   "execution_count": 13,
   "id": "fb075ff5",
   "metadata": {
    "scrolled": true
   },
   "outputs": [
    {
     "data": {
      "text/plain": [
       "array([[0.23424444],\n",
       "       [0.31871197],\n",
       "       [0.16049665],\n",
       "       ...,\n",
       "       [0.14699268],\n",
       "       [0.13470355],\n",
       "       [0.13201836]], dtype=float32)"
      ]
     },
     "execution_count": 13,
     "metadata": {},
     "output_type": "execute_result"
    }
   ],
   "source": [
    "# Predicting the Test set results\n",
    "y_pred = classifier.predict(X_test)\n",
    "#y_pred = (y_pred > 0.5)\n",
    "y_pred"
   ]
  },
  {
   "cell_type": "code",
   "execution_count": 41,
   "id": "c2582fd3",
   "metadata": {
    "scrolled": true
   },
   "outputs": [
    {
     "data": {
      "text/plain": [
       "array([[1499,   96],\n",
       "       [ 184,  221]], dtype=int64)"
      ]
     },
     "execution_count": 41,
     "metadata": {},
     "output_type": "execute_result"
    }
   ],
   "source": [
    "# Making the Confusion Matrix\n",
    "from sklearn.metrics import confusion_matrix\n",
    "cm = confusion_matrix(y_test, y_pred)\n",
    "cm"
   ]
  },
  {
   "cell_type": "markdown",
   "id": "8e1a4a8b",
   "metadata": {},
   "source": [
    "## Exo 4"
   ]
  },
  {
   "cell_type": "code",
   "execution_count": 64,
   "id": "5fcbf2c5",
   "metadata": {},
   "outputs": [],
   "source": [
    "from sklearn.preprocessing import LabelEncoder, OneHotEncoder\n",
    "from sklearn.preprocessing import StandardScaler\n",
    "\n",
    "def preprocess_data(input_values):\n",
    "    # Encoding categorical data\n",
    "    labelencoder_1 = LabelEncoder()\n",
    "    input_values[:, 1] = labelencoder_1.fit_transform(input_values[:, 1]) #geography\n",
    "    labelencoder_2 = LabelEncoder()\n",
    "    input_values[:, 2] = labelencoder_2.fit_transform(input_values[:, 2]) #Gender\n",
    "    \n",
    "    from sklearn.compose import ColumnTransformer\n",
    "    onehotencoder = ColumnTransformer([(\"Geography\",OneHotEncoder(),[1])], remainder='passthrough')\n",
    "    input_values = onehotencoder.fit_transform(input_values)\n",
    "\n",
    "    # Feature Scaling\n",
    "    sc = StandardScaler()\n",
    "    X_scaled = sc.fit_transform(input_values)\n",
    "    \n",
    "    return X_scaled"
   ]
  },
  {
   "cell_type": "code",
   "execution_count": 58,
   "id": "bde32adb",
   "metadata": {
    "scrolled": true
   },
   "outputs": [],
   "source": [
    "input_test ={\n",
    "    'CreditScore' : 600,\n",
    "    'Geography' : 'France',\n",
    "    'Gender' : 'Male',\n",
    "    'Age' : 40,\n",
    "    'Tenure' : 3,\n",
    "    'Balance' : 60000,\n",
    "    'NumOfProducts' : 2,\n",
    "    'HasCrCard' : 1,\n",
    "    'IsActiveMember' : 1,\n",
    "    'EstimatedSalary' : 50000\n",
    "}"
   ]
  },
  {
   "cell_type": "code",
   "execution_count": 60,
   "id": "3c91749a",
   "metadata": {
    "scrolled": false
   },
   "outputs": [
    {
     "name": "stderr",
     "output_type": "stream",
     "text": [
      "C:\\Users\\kwass\\AppData\\Local\\Temp\\ipykernel_2964\\95131691.py:3: FutureWarning: The frame.append method is deprecated and will be removed from pandas in a future version. Use pandas.concat instead.\n",
      "  df_input = X.append(input_test, ignore_index=True)\n"
     ]
    }
   ],
   "source": [
    "X = dataset.iloc[:, 3:13]\n",
    "#df_input = pd.DataFrame([input_test])\n",
    "df_input = X.append(input_test, ignore_index=True)"
   ]
  },
  {
   "cell_type": "code",
   "execution_count": 65,
   "id": "bbcff331",
   "metadata": {
    "scrolled": true
   },
   "outputs": [
    {
     "data": {
      "text/plain": [
       "array([[ 0.99710448, -0.57869729, -0.57377102, ...,  0.64604588,\n",
       "         0.97014838,  0.02197385],\n",
       "       [-1.00290393, -0.57869729,  1.74285554, ..., -1.54787768,\n",
       "         0.97014838,  0.21662346],\n",
       "       [ 0.99710448, -0.57869729, -0.57377102, ...,  0.64604588,\n",
       "        -1.03077015,  0.2407769 ],\n",
       "       ...,\n",
       "       [-1.00290393,  1.72801916, -0.57377102, ...,  0.64604588,\n",
       "        -1.03077015, -0.12514513],\n",
       "       [ 0.99710448, -0.57869729, -0.57377102, ...,  0.64604588,\n",
       "        -1.03077015, -1.07629565],\n",
       "       [ 0.99710448, -0.57869729, -0.57377102, ...,  0.64604588,\n",
       "         0.97014838, -0.87094264]])"
      ]
     },
     "execution_count": 65,
     "metadata": {},
     "output_type": "execute_result"
    }
   ],
   "source": [
    "test = preprocess_data(df_input.values)\n",
    "test"
   ]
  },
  {
   "cell_type": "code",
   "execution_count": 78,
   "id": "c325e22f",
   "metadata": {
    "scrolled": false
   },
   "outputs": [
    {
     "data": {
      "text/plain": [
       "(1, 12)"
      ]
     },
     "execution_count": 78,
     "metadata": {},
     "output_type": "execute_result"
    }
   ],
   "source": [
    "inter = test[-1].reshape(1,12)\n",
    "inter.shape"
   ]
  },
  {
   "cell_type": "code",
   "execution_count": 79,
   "id": "6e2f6797",
   "metadata": {
    "scrolled": true
   },
   "outputs": [
    {
     "data": {
      "text/plain": [
       "array([[0.03116116]], dtype=float32)"
      ]
     },
     "execution_count": 79,
     "metadata": {},
     "output_type": "execute_result"
    }
   ],
   "source": [
    "y_pred = classifier.predict(inter)\n",
    "y_pred"
   ]
  },
  {
   "cell_type": "markdown",
   "id": "579062d8",
   "metadata": {},
   "source": [
    "On conclut que cette personne n'a pas quitté la banque"
   ]
  },
  {
   "cell_type": "markdown",
   "id": "67b5275d",
   "metadata": {},
   "source": [
    "## Exo 5"
   ]
  },
  {
   "cell_type": "code",
   "execution_count": 14,
   "id": "3f52c02d",
   "metadata": {},
   "outputs": [
    {
     "data": {
      "text/html": [
       "<div>\n",
       "<style scoped>\n",
       "    .dataframe tbody tr th:only-of-type {\n",
       "        vertical-align: middle;\n",
       "    }\n",
       "\n",
       "    .dataframe tbody tr th {\n",
       "        vertical-align: top;\n",
       "    }\n",
       "\n",
       "    .dataframe thead th {\n",
       "        text-align: right;\n",
       "    }\n",
       "</style>\n",
       "<table border=\"1\" class=\"dataframe\">\n",
       "  <thead>\n",
       "    <tr style=\"text-align: right;\">\n",
       "      <th></th>\n",
       "      <th>preg</th>\n",
       "      <th>plas</th>\n",
       "      <th>pres</th>\n",
       "      <th>skin</th>\n",
       "      <th>test</th>\n",
       "      <th>mass</th>\n",
       "      <th>pedi</th>\n",
       "      <th>age</th>\n",
       "      <th>class</th>\n",
       "    </tr>\n",
       "  </thead>\n",
       "  <tbody>\n",
       "    <tr>\n",
       "      <th>0</th>\n",
       "      <td>6</td>\n",
       "      <td>148</td>\n",
       "      <td>72</td>\n",
       "      <td>35</td>\n",
       "      <td>0</td>\n",
       "      <td>33.6</td>\n",
       "      <td>0.627</td>\n",
       "      <td>50</td>\n",
       "      <td>1</td>\n",
       "    </tr>\n",
       "    <tr>\n",
       "      <th>1</th>\n",
       "      <td>1</td>\n",
       "      <td>85</td>\n",
       "      <td>66</td>\n",
       "      <td>29</td>\n",
       "      <td>0</td>\n",
       "      <td>26.6</td>\n",
       "      <td>0.351</td>\n",
       "      <td>31</td>\n",
       "      <td>0</td>\n",
       "    </tr>\n",
       "    <tr>\n",
       "      <th>2</th>\n",
       "      <td>8</td>\n",
       "      <td>183</td>\n",
       "      <td>64</td>\n",
       "      <td>0</td>\n",
       "      <td>0</td>\n",
       "      <td>23.3</td>\n",
       "      <td>0.672</td>\n",
       "      <td>32</td>\n",
       "      <td>1</td>\n",
       "    </tr>\n",
       "    <tr>\n",
       "      <th>3</th>\n",
       "      <td>1</td>\n",
       "      <td>89</td>\n",
       "      <td>66</td>\n",
       "      <td>23</td>\n",
       "      <td>94</td>\n",
       "      <td>28.1</td>\n",
       "      <td>0.167</td>\n",
       "      <td>21</td>\n",
       "      <td>0</td>\n",
       "    </tr>\n",
       "    <tr>\n",
       "      <th>4</th>\n",
       "      <td>0</td>\n",
       "      <td>137</td>\n",
       "      <td>40</td>\n",
       "      <td>35</td>\n",
       "      <td>168</td>\n",
       "      <td>43.1</td>\n",
       "      <td>2.288</td>\n",
       "      <td>33</td>\n",
       "      <td>1</td>\n",
       "    </tr>\n",
       "  </tbody>\n",
       "</table>\n",
       "</div>"
      ],
      "text/plain": [
       "   preg  plas  pres  skin  test  mass   pedi  age  class\n",
       "0     6   148    72    35     0  33.6  0.627   50      1\n",
       "1     1    85    66    29     0  26.6  0.351   31      0\n",
       "2     8   183    64     0     0  23.3  0.672   32      1\n",
       "3     1    89    66    23    94  28.1  0.167   21      0\n",
       "4     0   137    40    35   168  43.1  2.288   33      1"
      ]
     },
     "execution_count": 14,
     "metadata": {},
     "output_type": "execute_result"
    }
   ],
   "source": [
    "filename = './datasets/pima-indians-diabetes.data.csv'\n",
    "names = ['preg', 'plas', 'pres', 'skin', 'test', 'mass', 'pedi', 'age', 'class']\n",
    "df1 = pd.read_csv(filename, names=names, delimiter=\",\")\n",
    "df1.head()"
   ]
  },
  {
   "cell_type": "code",
   "execution_count": 15,
   "id": "4cc2ba02",
   "metadata": {},
   "outputs": [],
   "source": [
    "X = df1.drop('class', axis=1).values\n",
    "y = df1['class'].values"
   ]
  },
  {
   "cell_type": "code",
   "execution_count": 20,
   "id": "9b15d116",
   "metadata": {},
   "outputs": [
    {
     "data": {
      "text/html": [
       "<div>\n",
       "<style scoped>\n",
       "    .dataframe tbody tr th:only-of-type {\n",
       "        vertical-align: middle;\n",
       "    }\n",
       "\n",
       "    .dataframe tbody tr th {\n",
       "        vertical-align: top;\n",
       "    }\n",
       "\n",
       "    .dataframe thead th {\n",
       "        text-align: right;\n",
       "    }\n",
       "</style>\n",
       "<table border=\"1\" class=\"dataframe\">\n",
       "  <thead>\n",
       "    <tr style=\"text-align: right;\">\n",
       "      <th></th>\n",
       "      <th>preg</th>\n",
       "      <th>plas</th>\n",
       "      <th>pres</th>\n",
       "      <th>skin</th>\n",
       "      <th>test</th>\n",
       "      <th>mass</th>\n",
       "      <th>pedi</th>\n",
       "      <th>age</th>\n",
       "      <th>class</th>\n",
       "    </tr>\n",
       "  </thead>\n",
       "  <tbody>\n",
       "    <tr>\n",
       "      <th>count</th>\n",
       "      <td>768.000000</td>\n",
       "      <td>768.000000</td>\n",
       "      <td>768.000000</td>\n",
       "      <td>768.000000</td>\n",
       "      <td>768.000000</td>\n",
       "      <td>768.000000</td>\n",
       "      <td>768.000000</td>\n",
       "      <td>768.000000</td>\n",
       "      <td>768.000000</td>\n",
       "    </tr>\n",
       "    <tr>\n",
       "      <th>mean</th>\n",
       "      <td>3.845052</td>\n",
       "      <td>120.894531</td>\n",
       "      <td>69.105469</td>\n",
       "      <td>20.536458</td>\n",
       "      <td>79.799479</td>\n",
       "      <td>31.992578</td>\n",
       "      <td>0.471876</td>\n",
       "      <td>33.240885</td>\n",
       "      <td>0.348958</td>\n",
       "    </tr>\n",
       "    <tr>\n",
       "      <th>std</th>\n",
       "      <td>3.369578</td>\n",
       "      <td>31.972618</td>\n",
       "      <td>19.355807</td>\n",
       "      <td>15.952218</td>\n",
       "      <td>115.244002</td>\n",
       "      <td>7.884160</td>\n",
       "      <td>0.331329</td>\n",
       "      <td>11.760232</td>\n",
       "      <td>0.476951</td>\n",
       "    </tr>\n",
       "    <tr>\n",
       "      <th>min</th>\n",
       "      <td>0.000000</td>\n",
       "      <td>0.000000</td>\n",
       "      <td>0.000000</td>\n",
       "      <td>0.000000</td>\n",
       "      <td>0.000000</td>\n",
       "      <td>0.000000</td>\n",
       "      <td>0.078000</td>\n",
       "      <td>21.000000</td>\n",
       "      <td>0.000000</td>\n",
       "    </tr>\n",
       "    <tr>\n",
       "      <th>25%</th>\n",
       "      <td>1.000000</td>\n",
       "      <td>99.000000</td>\n",
       "      <td>62.000000</td>\n",
       "      <td>0.000000</td>\n",
       "      <td>0.000000</td>\n",
       "      <td>27.300000</td>\n",
       "      <td>0.243750</td>\n",
       "      <td>24.000000</td>\n",
       "      <td>0.000000</td>\n",
       "    </tr>\n",
       "    <tr>\n",
       "      <th>50%</th>\n",
       "      <td>3.000000</td>\n",
       "      <td>117.000000</td>\n",
       "      <td>72.000000</td>\n",
       "      <td>23.000000</td>\n",
       "      <td>30.500000</td>\n",
       "      <td>32.000000</td>\n",
       "      <td>0.372500</td>\n",
       "      <td>29.000000</td>\n",
       "      <td>0.000000</td>\n",
       "    </tr>\n",
       "    <tr>\n",
       "      <th>75%</th>\n",
       "      <td>6.000000</td>\n",
       "      <td>140.250000</td>\n",
       "      <td>80.000000</td>\n",
       "      <td>32.000000</td>\n",
       "      <td>127.250000</td>\n",
       "      <td>36.600000</td>\n",
       "      <td>0.626250</td>\n",
       "      <td>41.000000</td>\n",
       "      <td>1.000000</td>\n",
       "    </tr>\n",
       "    <tr>\n",
       "      <th>max</th>\n",
       "      <td>17.000000</td>\n",
       "      <td>199.000000</td>\n",
       "      <td>122.000000</td>\n",
       "      <td>99.000000</td>\n",
       "      <td>846.000000</td>\n",
       "      <td>67.100000</td>\n",
       "      <td>2.420000</td>\n",
       "      <td>81.000000</td>\n",
       "      <td>1.000000</td>\n",
       "    </tr>\n",
       "  </tbody>\n",
       "</table>\n",
       "</div>"
      ],
      "text/plain": [
       "             preg        plas        pres        skin        test        mass  \\\n",
       "count  768.000000  768.000000  768.000000  768.000000  768.000000  768.000000   \n",
       "mean     3.845052  120.894531   69.105469   20.536458   79.799479   31.992578   \n",
       "std      3.369578   31.972618   19.355807   15.952218  115.244002    7.884160   \n",
       "min      0.000000    0.000000    0.000000    0.000000    0.000000    0.000000   \n",
       "25%      1.000000   99.000000   62.000000    0.000000    0.000000   27.300000   \n",
       "50%      3.000000  117.000000   72.000000   23.000000   30.500000   32.000000   \n",
       "75%      6.000000  140.250000   80.000000   32.000000  127.250000   36.600000   \n",
       "max     17.000000  199.000000  122.000000   99.000000  846.000000   67.100000   \n",
       "\n",
       "             pedi         age       class  \n",
       "count  768.000000  768.000000  768.000000  \n",
       "mean     0.471876   33.240885    0.348958  \n",
       "std      0.331329   11.760232    0.476951  \n",
       "min      0.078000   21.000000    0.000000  \n",
       "25%      0.243750   24.000000    0.000000  \n",
       "50%      0.372500   29.000000    0.000000  \n",
       "75%      0.626250   41.000000    1.000000  \n",
       "max      2.420000   81.000000    1.000000  "
      ]
     },
     "execution_count": 20,
     "metadata": {},
     "output_type": "execute_result"
    }
   ],
   "source": [
    "df1.describe()"
   ]
  },
  {
   "cell_type": "code",
   "execution_count": 16,
   "id": "413ed9df",
   "metadata": {
    "scrolled": true
   },
   "outputs": [
    {
     "data": {
      "text/plain": [
       "preg     0\n",
       "plas     0\n",
       "pres     0\n",
       "skin     0\n",
       "test     0\n",
       "mass     0\n",
       "pedi     0\n",
       "age      0\n",
       "class    0\n",
       "dtype: int64"
      ]
     },
     "execution_count": 16,
     "metadata": {},
     "output_type": "execute_result"
    }
   ],
   "source": [
    "df1.isna().sum()"
   ]
  },
  {
   "cell_type": "code",
   "execution_count": 17,
   "id": "11b824e9",
   "metadata": {},
   "outputs": [],
   "source": [
    "# Splitting the dataset into the Training set and Test set\n",
    "from sklearn.model_selection import train_test_split\n",
    "X_train, X_test, y_train, y_test = train_test_split(X, y, test_size = 0.2, random_state = 0)"
   ]
  },
  {
   "cell_type": "code",
   "execution_count": 18,
   "id": "bd76f192",
   "metadata": {},
   "outputs": [],
   "source": [
    "# Feature Scaling\n",
    "from sklearn.preprocessing import StandardScaler\n",
    "sc = StandardScaler()\n",
    "X_train = sc.fit_transform(X_train)\n",
    "X_test = sc.transform(X_test)"
   ]
  },
  {
   "cell_type": "code",
   "execution_count": 19,
   "id": "cbf04758",
   "metadata": {},
   "outputs": [],
   "source": [
    "# Importing the Keras libraries and packages\n",
    "import keras\n",
    "from keras.models import Sequential\n",
    "from keras.layers import Dense"
   ]
  },
  {
   "cell_type": "code",
   "execution_count": 21,
   "id": "49533a2c",
   "metadata": {},
   "outputs": [
    {
     "name": "stdout",
     "output_type": "stream",
     "text": [
      "Epoch 1/100\n",
      "62/62 [==============================] - 0s 1ms/step - loss: 0.6888 - accuracy: 0.6433\n",
      "Epoch 2/100\n",
      "62/62 [==============================] - 0s 799us/step - loss: 0.6693 - accuracy: 0.6401\n",
      "Epoch 3/100\n",
      "62/62 [==============================] - 0s 784us/step - loss: 0.6183 - accuracy: 0.6401\n",
      "Epoch 4/100\n",
      "62/62 [==============================] - 0s 757us/step - loss: 0.5679 - accuracy: 0.6401\n",
      "Epoch 5/100\n",
      "62/62 [==============================] - 0s 719us/step - loss: 0.5475 - accuracy: 0.6401\n",
      "Epoch 6/100\n",
      "62/62 [==============================] - 0s 719us/step - loss: 0.5375 - accuracy: 0.6401\n",
      "Epoch 7/100\n",
      "62/62 [==============================] - 0s 720us/step - loss: 0.5302 - accuracy: 0.6401\n",
      "Epoch 8/100\n",
      "62/62 [==============================] - 0s 786us/step - loss: 0.5245 - accuracy: 0.6401\n",
      "Epoch 9/100\n",
      "62/62 [==============================] - 0s 859us/step - loss: 0.5209 - accuracy: 0.7378\n",
      "Epoch 10/100\n",
      "62/62 [==============================] - 0s 1ms/step - loss: 0.5180 - accuracy: 0.7622\n",
      "Epoch 11/100\n",
      "62/62 [==============================] - 0s 1ms/step - loss: 0.5161 - accuracy: 0.7606\n",
      "Epoch 12/100\n",
      "62/62 [==============================] - 0s 1ms/step - loss: 0.5143 - accuracy: 0.7622\n",
      "Epoch 13/100\n",
      "62/62 [==============================] - 0s 1ms/step - loss: 0.5118 - accuracy: 0.7638\n",
      "Epoch 14/100\n",
      "62/62 [==============================] - 0s 722us/step - loss: 0.5100 - accuracy: 0.7720\n",
      "Epoch 15/100\n",
      "62/62 [==============================] - 0s 728us/step - loss: 0.5088 - accuracy: 0.7704\n",
      "Epoch 16/100\n",
      "62/62 [==============================] - 0s 727us/step - loss: 0.5063 - accuracy: 0.7704\n",
      "Epoch 17/100\n",
      "62/62 [==============================] - 0s 745us/step - loss: 0.5046 - accuracy: 0.7687\n",
      "Epoch 18/100\n",
      "62/62 [==============================] - 0s 728us/step - loss: 0.5034 - accuracy: 0.7671\n",
      "Epoch 19/100\n",
      "62/62 [==============================] - 0s 729us/step - loss: 0.5018 - accuracy: 0.7736\n",
      "Epoch 20/100\n",
      "62/62 [==============================] - 0s 724us/step - loss: 0.5005 - accuracy: 0.7752\n",
      "Epoch 21/100\n",
      "62/62 [==============================] - 0s 710us/step - loss: 0.4990 - accuracy: 0.7720\n",
      "Epoch 22/100\n",
      "62/62 [==============================] - 0s 789us/step - loss: 0.4977 - accuracy: 0.7736\n",
      "Epoch 23/100\n",
      "62/62 [==============================] - 0s 713us/step - loss: 0.4965 - accuracy: 0.7720\n",
      "Epoch 24/100\n",
      "62/62 [==============================] - 0s 792us/step - loss: 0.4950 - accuracy: 0.7752\n",
      "Epoch 25/100\n",
      "62/62 [==============================] - 0s 707us/step - loss: 0.4943 - accuracy: 0.7769\n",
      "Epoch 26/100\n",
      "62/62 [==============================] - 0s 782us/step - loss: 0.4934 - accuracy: 0.7720\n",
      "Epoch 27/100\n",
      "62/62 [==============================] - 0s 917us/step - loss: 0.4920 - accuracy: 0.7720\n",
      "Epoch 28/100\n",
      "62/62 [==============================] - 0s 946us/step - loss: 0.4914 - accuracy: 0.7704\n",
      "Epoch 29/100\n",
      "62/62 [==============================] - 0s 977us/step - loss: 0.4901 - accuracy: 0.7720\n",
      "Epoch 30/100\n",
      "62/62 [==============================] - 0s 803us/step - loss: 0.4892 - accuracy: 0.7785\n",
      "Epoch 31/100\n",
      "62/62 [==============================] - 0s 732us/step - loss: 0.4879 - accuracy: 0.7704\n",
      "Epoch 32/100\n",
      "62/62 [==============================] - 0s 710us/step - loss: 0.4877 - accuracy: 0.7736\n",
      "Epoch 33/100\n",
      "62/62 [==============================] - 0s 704us/step - loss: 0.4866 - accuracy: 0.7720\n",
      "Epoch 34/100\n",
      "62/62 [==============================] - 0s 725us/step - loss: 0.4860 - accuracy: 0.7752\n",
      "Epoch 35/100\n",
      "62/62 [==============================] - 0s 796us/step - loss: 0.4849 - accuracy: 0.7752\n",
      "Epoch 36/100\n",
      "62/62 [==============================] - 0s 710us/step - loss: 0.4841 - accuracy: 0.7769\n",
      "Epoch 37/100\n",
      "62/62 [==============================] - 0s 785us/step - loss: 0.4840 - accuracy: 0.7752\n",
      "Epoch 38/100\n",
      "62/62 [==============================] - 0s 714us/step - loss: 0.4830 - accuracy: 0.7752\n",
      "Epoch 39/100\n",
      "62/62 [==============================] - 0s 850us/step - loss: 0.4816 - accuracy: 0.7752\n",
      "Epoch 40/100\n",
      "62/62 [==============================] - 0s 717us/step - loss: 0.4809 - accuracy: 0.7720\n",
      "Epoch 41/100\n",
      "62/62 [==============================] - 0s 710us/step - loss: 0.4803 - accuracy: 0.7704\n",
      "Epoch 42/100\n",
      "62/62 [==============================] - 0s 727us/step - loss: 0.4798 - accuracy: 0.7769\n",
      "Epoch 43/100\n",
      "62/62 [==============================] - 0s 777us/step - loss: 0.4793 - accuracy: 0.7736\n",
      "Epoch 44/100\n",
      "62/62 [==============================] - 0s 718us/step - loss: 0.4780 - accuracy: 0.7752\n",
      "Epoch 45/100\n",
      "62/62 [==============================] - 0s 824us/step - loss: 0.4778 - accuracy: 0.7720\n",
      "Epoch 46/100\n",
      "62/62 [==============================] - 0s 733us/step - loss: 0.4771 - accuracy: 0.7704\n",
      "Epoch 47/100\n",
      "62/62 [==============================] - 0s 705us/step - loss: 0.4765 - accuracy: 0.7736\n",
      "Epoch 48/100\n",
      "62/62 [==============================] - 0s 811us/step - loss: 0.4763 - accuracy: 0.7752\n",
      "Epoch 49/100\n",
      "62/62 [==============================] - 0s 727us/step - loss: 0.4754 - accuracy: 0.7752\n",
      "Epoch 50/100\n",
      "62/62 [==============================] - 0s 728us/step - loss: 0.4755 - accuracy: 0.7720\n",
      "Epoch 51/100\n",
      "62/62 [==============================] - 0s 725us/step - loss: 0.4742 - accuracy: 0.7687\n",
      "Epoch 52/100\n",
      "62/62 [==============================] - 0s 786us/step - loss: 0.4737 - accuracy: 0.7704\n",
      "Epoch 53/100\n",
      "62/62 [==============================] - 0s 745us/step - loss: 0.4732 - accuracy: 0.7736\n",
      "Epoch 54/100\n",
      "62/62 [==============================] - 0s 699us/step - loss: 0.4731 - accuracy: 0.7736\n",
      "Epoch 55/100\n",
      "62/62 [==============================] - 0s 763us/step - loss: 0.4730 - accuracy: 0.7769\n",
      "Epoch 56/100\n",
      "62/62 [==============================] - 0s 705us/step - loss: 0.4721 - accuracy: 0.7687\n",
      "Epoch 57/100\n",
      "62/62 [==============================] - 0s 785us/step - loss: 0.4726 - accuracy: 0.7769\n",
      "Epoch 58/100\n",
      "62/62 [==============================] - 0s 772us/step - loss: 0.4709 - accuracy: 0.7752\n",
      "Epoch 59/100\n",
      "62/62 [==============================] - 0s 755us/step - loss: 0.4702 - accuracy: 0.7769\n",
      "Epoch 60/100\n",
      "62/62 [==============================] - 0s 1ms/step - loss: 0.4702 - accuracy: 0.7785\n",
      "Epoch 61/100\n",
      "62/62 [==============================] - 0s 762us/step - loss: 0.4702 - accuracy: 0.7752\n",
      "Epoch 62/100\n",
      "62/62 [==============================] - 0s 676us/step - loss: 0.4694 - accuracy: 0.7801\n",
      "Epoch 63/100\n",
      "62/62 [==============================] - 0s 836us/step - loss: 0.4690 - accuracy: 0.7801\n",
      "Epoch 64/100\n",
      "62/62 [==============================] - 0s 665us/step - loss: 0.4684 - accuracy: 0.7801\n",
      "Epoch 65/100\n",
      "62/62 [==============================] - 0s 738us/step - loss: 0.4676 - accuracy: 0.7818\n",
      "Epoch 66/100\n",
      "62/62 [==============================] - 0s 764us/step - loss: 0.4676 - accuracy: 0.7818\n",
      "Epoch 67/100\n",
      "62/62 [==============================] - 0s 767us/step - loss: 0.4681 - accuracy: 0.7818\n",
      "Epoch 68/100\n",
      "62/62 [==============================] - 0s 770us/step - loss: 0.4677 - accuracy: 0.7769\n",
      "Epoch 69/100\n",
      "62/62 [==============================] - 0s 795us/step - loss: 0.4682 - accuracy: 0.7818\n",
      "Epoch 70/100\n",
      "62/62 [==============================] - 0s 698us/step - loss: 0.4674 - accuracy: 0.7801\n",
      "Epoch 71/100\n",
      "62/62 [==============================] - 0s 777us/step - loss: 0.4658 - accuracy: 0.7785\n",
      "Epoch 72/100\n",
      "62/62 [==============================] - 0s 760us/step - loss: 0.4659 - accuracy: 0.7801\n",
      "Epoch 73/100\n",
      "62/62 [==============================] - 0s 767us/step - loss: 0.4653 - accuracy: 0.7801\n",
      "Epoch 74/100\n",
      "62/62 [==============================] - 0s 759us/step - loss: 0.4654 - accuracy: 0.7801\n",
      "Epoch 75/100\n",
      "62/62 [==============================] - 0s 778us/step - loss: 0.4648 - accuracy: 0.7818\n",
      "Epoch 76/100\n",
      "62/62 [==============================] - 0s 686us/step - loss: 0.4645 - accuracy: 0.7850\n",
      "Epoch 77/100\n",
      "62/62 [==============================] - 0s 794us/step - loss: 0.4643 - accuracy: 0.7785\n",
      "Epoch 78/100\n",
      "62/62 [==============================] - 0s 758us/step - loss: 0.4640 - accuracy: 0.7866\n",
      "Epoch 79/100\n",
      "62/62 [==============================] - 0s 771us/step - loss: 0.4637 - accuracy: 0.7801\n",
      "Epoch 80/100\n",
      "62/62 [==============================] - 0s 762us/step - loss: 0.4636 - accuracy: 0.7801\n",
      "Epoch 81/100\n"
     ]
    },
    {
     "name": "stdout",
     "output_type": "stream",
     "text": [
      "62/62 [==============================] - 0s 778us/step - loss: 0.4631 - accuracy: 0.7834\n",
      "Epoch 82/100\n",
      "62/62 [==============================] - 0s 748us/step - loss: 0.4630 - accuracy: 0.7850\n",
      "Epoch 83/100\n",
      "62/62 [==============================] - 0s 738us/step - loss: 0.4623 - accuracy: 0.7850\n",
      "Epoch 84/100\n",
      "62/62 [==============================] - 0s 709us/step - loss: 0.4627 - accuracy: 0.7801\n",
      "Epoch 85/100\n",
      "62/62 [==============================] - 0s 763us/step - loss: 0.4616 - accuracy: 0.7834\n",
      "Epoch 86/100\n",
      "62/62 [==============================] - 0s 733us/step - loss: 0.4611 - accuracy: 0.7801\n",
      "Epoch 87/100\n",
      "62/62 [==============================] - 0s 725us/step - loss: 0.4620 - accuracy: 0.7801\n",
      "Epoch 88/100\n",
      "62/62 [==============================] - 0s 755us/step - loss: 0.4609 - accuracy: 0.7866\n",
      "Epoch 89/100\n",
      "62/62 [==============================] - 0s 726us/step - loss: 0.4607 - accuracy: 0.7785\n",
      "Epoch 90/100\n",
      "62/62 [==============================] - 0s 729us/step - loss: 0.4606 - accuracy: 0.7850\n",
      "Epoch 91/100\n",
      "62/62 [==============================] - 0s 722us/step - loss: 0.4600 - accuracy: 0.7801\n",
      "Epoch 92/100\n",
      "62/62 [==============================] - 0s 743us/step - loss: 0.4604 - accuracy: 0.7850\n",
      "Epoch 93/100\n",
      "62/62 [==============================] - 0s 792us/step - loss: 0.4594 - accuracy: 0.7834\n",
      "Epoch 94/100\n",
      "62/62 [==============================] - 0s 791us/step - loss: 0.4596 - accuracy: 0.7850\n",
      "Epoch 95/100\n",
      "62/62 [==============================] - 0s 699us/step - loss: 0.4594 - accuracy: 0.7834\n",
      "Epoch 96/100\n",
      "62/62 [==============================] - 0s 652us/step - loss: 0.4591 - accuracy: 0.7834\n",
      "Epoch 97/100\n",
      "62/62 [==============================] - 0s 677us/step - loss: 0.4593 - accuracy: 0.7850\n",
      "Epoch 98/100\n",
      "62/62 [==============================] - 0s 721us/step - loss: 0.4588 - accuracy: 0.7785\n",
      "Epoch 99/100\n",
      "62/62 [==============================] - 0s 735us/step - loss: 0.4585 - accuracy: 0.7834\n",
      "Epoch 100/100\n",
      "62/62 [==============================] - 0s 655us/step - loss: 0.4579 - accuracy: 0.7785\n"
     ]
    },
    {
     "data": {
      "text/plain": [
       "<tensorflow.python.keras.callbacks.History at 0x24817ae0c40>"
      ]
     },
     "execution_count": 21,
     "metadata": {},
     "output_type": "execute_result"
    }
   ],
   "source": [
    "# Initialising the ANN\n",
    "model = Sequential()\n",
    "\n",
    "# Adding the input layer and the first hidden layer\n",
    "model.add(Dense(units = 6, kernel_initializer = 'uniform', activation = 'relu', input_dim = 8))\n",
    "\n",
    "# Adding the second hidden layer\n",
    "model.add(Dense(units = 6, kernel_initializer = 'uniform', activation = 'relu'))\n",
    "\n",
    "# Adding the output layer\n",
    "model.add(Dense(units = 1, kernel_initializer = 'uniform', activation = 'sigmoid'))\n",
    "\n",
    "# Compiling the ANN\n",
    "model.compile(optimizer = 'adam', loss = 'binary_crossentropy', metrics = ['accuracy'])\n",
    "\n",
    "# Fitting the ANN to the Training set\n",
    "model.fit(X_train, y_train, batch_size = 10, epochs = 100)"
   ]
  },
  {
   "cell_type": "code",
   "execution_count": 22,
   "id": "e9f81d38",
   "metadata": {},
   "outputs": [],
   "source": [
    "# Predicting the Test set results\n",
    "y_pred = model.predict(X_test)\n",
    "y_pred = (y_pred > 0.5)"
   ]
  },
  {
   "cell_type": "code",
   "execution_count": 23,
   "id": "5bcefc85",
   "metadata": {},
   "outputs": [
    {
     "data": {
      "text/plain": [
       "array([[95, 12],\n",
       "       [17, 30]], dtype=int64)"
      ]
     },
     "execution_count": 23,
     "metadata": {},
     "output_type": "execute_result"
    }
   ],
   "source": [
    "# Making the Confusion Matrix\n",
    "from sklearn.metrics import confusion_matrix\n",
    "cm = confusion_matrix(y_test, y_pred)\n",
    "cm"
   ]
  },
  {
   "cell_type": "code",
   "execution_count": null,
   "id": "6a2d58c0",
   "metadata": {},
   "outputs": [],
   "source": []
  }
 ],
 "metadata": {
  "kernelspec": {
   "display_name": "Python 3 (ipykernel)",
   "language": "python",
   "name": "python3"
  },
  "language_info": {
   "codemirror_mode": {
    "name": "ipython",
    "version": 3
   },
   "file_extension": ".py",
   "mimetype": "text/x-python",
   "name": "python",
   "nbconvert_exporter": "python",
   "pygments_lexer": "ipython3",
   "version": "3.8.5"
  }
 },
 "nbformat": 4,
 "nbformat_minor": 5
}
